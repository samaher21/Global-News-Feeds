{
 "cells": [
  {
   "cell_type": "markdown",
   "id": "aea75b32",
   "metadata": {},
   "source": [
    "#### In this notebook we will collect and preprocess over the Datasets befor concat them in one DF."
   ]
  },
  {
   "cell_type": "markdown",
   "id": "a13fa646",
   "metadata": {},
   "source": [
    "### Setup "
   ]
  },
  {
   "cell_type": "markdown",
   "id": "c0a750b3",
   "metadata": {},
   "source": [
    "Data manipulation libraries:"
   ]
  },
  {
   "cell_type": "code",
   "execution_count": 1,
   "id": "24ffdf63",
   "metadata": {},
   "outputs": [],
   "source": [
    "import pandas as pd \n",
    "import numpy  as np"
   ]
  },
  {
   "cell_type": "markdown",
   "id": "c69c5d29",
   "metadata": {},
   "source": [
    "Text Preprocessing libraries:"
   ]
  },
  {
   "cell_type": "code",
   "execution_count": 41,
   "id": "9f8a45b7",
   "metadata": {},
   "outputs": [],
   "source": [
    "import string as st\n",
    "import re\n",
    "import nltk\n",
    "from   nltk  import WordNetLemmatizer"
   ]
  },
  {
   "cell_type": "markdown",
   "id": "ee93db7b",
   "metadata": {},
   "source": [
    "Storage libraries: "
   ]
  },
  {
   "cell_type": "code",
   "execution_count": 38,
   "id": "ece67932",
   "metadata": {},
   "outputs": [],
   "source": [
    "import  pickle\n",
    "from    sqlalchemy import create_engine"
   ]
  },
  {
   "cell_type": "markdown",
   "id": "e2fa52e3",
   "metadata": {},
   "source": [
    "### Data-Sets"
   ]
  },
  {
   "cell_type": "markdown",
   "id": "2dd12adb",
   "metadata": {},
   "source": [
    "The datasets will be selected are the [**Global News Feeds**](https://www.kaggle.com/therohk/global-news-week) and the [**Language Identification dataset**](https://www.kaggle.com/zarajamshaid/language-identification-datasst?select=dataset.csv).\n",
    "\n",
    "- **Global News Feeds:** This dataset is a snapshot of most of the new news content published online over one week.   \n",
    "It covers the seven day period from august 24 through august 30 for the years of 2017 and 2018.\n",
    "\n"
   ]
  },
  {
   "cell_type": "markdown",
   "id": "99c6f875",
   "metadata": {},
   "source": [
    "1. 2017 Dataset"
   ]
  },
  {
   "cell_type": "code",
   "execution_count": 3,
   "id": "cecffbdf",
   "metadata": {},
   "outputs": [],
   "source": [
    "G_news_2017 = pd.read_csv('news-week-17aug24.csv')"
   ]
  },
  {
   "cell_type": "code",
   "execution_count": 4,
   "id": "4e3d09c3",
   "metadata": {},
   "outputs": [
    {
     "data": {
      "text/plain": [
       "(1395586, 4)"
      ]
     },
     "execution_count": 4,
     "metadata": {},
     "output_type": "execute_result"
    }
   ],
   "source": [
    "G_news_2017.shape"
   ]
  },
  {
   "cell_type": "markdown",
   "id": "e944662a",
   "metadata": {},
   "source": [
    "2. 2018 Dataset"
   ]
  },
  {
   "cell_type": "code",
   "execution_count": 5,
   "id": "3e77247e",
   "metadata": {},
   "outputs": [],
   "source": [
    "G_news_2018 = pd.read_csv('news-week-18aug24.csv')"
   ]
  },
  {
   "cell_type": "code",
   "execution_count": 6,
   "id": "1afa4cb0",
   "metadata": {},
   "outputs": [
    {
     "data": {
      "text/plain": [
       "(1909739, 4)"
      ]
     },
     "execution_count": 6,
     "metadata": {},
     "output_type": "execute_result"
    }
   ],
   "source": [
    "G_news_2018.shape"
   ]
  },
  {
   "cell_type": "markdown",
   "id": "2cfda98f",
   "metadata": {},
   "source": [
    "- **Language Identification dataset:** Contains multiple langauge, and each language contains 1000 rows/paragraphs."
   ]
  },
  {
   "cell_type": "markdown",
   "id": "5bf41d38",
   "metadata": {},
   "source": [
    "3. Language Identification dataset"
   ]
  },
  {
   "cell_type": "code",
   "execution_count": 7,
   "id": "c46e067f",
   "metadata": {},
   "outputs": [],
   "source": [
    "Lang = pd.read_csv('dataset.csv')"
   ]
  },
  {
   "cell_type": "code",
   "execution_count": 8,
   "id": "9b52285c",
   "metadata": {},
   "outputs": [
    {
     "data": {
      "text/plain": [
       "(22000, 2)"
      ]
     },
     "execution_count": 8,
     "metadata": {},
     "output_type": "execute_result"
    }
   ],
   "source": [
    "Lang.shape"
   ]
  },
  {
   "cell_type": "markdown",
   "id": "ccdb3cfc",
   "metadata": {},
   "source": [
    "### Data Preprocessing"
   ]
  },
  {
   "cell_type": "markdown",
   "id": "43ff2edb",
   "metadata": {},
   "source": [
    "- First of all we need to concat the Global News Feeds datasets, since they have the same columns."
   ]
  },
  {
   "cell_type": "code",
   "execution_count": 9,
   "id": "5223f4c4",
   "metadata": {},
   "outputs": [],
   "source": [
    "Global_News_Feeds = pd.concat([G_news_2017,G_news_2018])"
   ]
  },
  {
   "cell_type": "code",
   "execution_count": 10,
   "id": "77f80f94",
   "metadata": {},
   "outputs": [
    {
     "data": {
      "text/plain": [
       "(3305325, 4)"
      ]
     },
     "execution_count": 10,
     "metadata": {},
     "output_type": "execute_result"
    }
   ],
   "source": [
    "Global_News_Feeds.shape"
   ]
  },
  {
   "cell_type": "markdown",
   "id": "be5b7599",
   "metadata": {},
   "source": [
    "-  Drop the uneeded columns and rename. "
   ]
  },
  {
   "cell_type": "code",
   "execution_count": 11,
   "id": "bb06284a",
   "metadata": {},
   "outputs": [],
   "source": [
    "Global_News_Feeds.rename(\n",
    "    inplace=True,\n",
    "    columns={'headline_text':'Text'})"
   ]
  },
  {
   "cell_type": "code",
   "execution_count": 12,
   "id": "9b696866",
   "metadata": {},
   "outputs": [],
   "source": [
    "Global_News_Feeds.drop(['publish_time' ,'feed_code', 'source_url'], axis=1, inplace=True)"
   ]
  },
  {
   "cell_type": "code",
   "execution_count": 13,
   "id": "0fce0c4c",
   "metadata": {},
   "outputs": [
    {
     "data": {
      "text/plain": [
       "(3305325, 1)"
      ]
     },
     "execution_count": 13,
     "metadata": {},
     "output_type": "execute_result"
    }
   ],
   "source": [
    "Global_News_Feeds.shape"
   ]
  },
  {
   "cell_type": "markdown",
   "id": "1db501cf",
   "metadata": {},
   "source": [
    "- language Detection"
   ]
  },
  {
   "cell_type": "code",
   "execution_count": 14,
   "id": "a828b2af",
   "metadata": {},
   "outputs": [],
   "source": [
    "# identify the English stop words\n",
    "englishStopWords    = set(nltk.corpus.stopwords.words('english'))\n",
    "stopWordsDictionary = {lang: set(nltk.corpus.stopwords.words(lang)) for lang in nltk.corpus.stopwords.fileids()}"
   ]
  },
  {
   "cell_type": "code",
   "execution_count": 15,
   "id": "6962bfad",
   "metadata": {},
   "outputs": [],
   "source": [
    "# detection function \n",
    "def get_language(text):\n",
    "    if type(text) is str:\n",
    "        text = text.lower()\n",
    "    words = set(nltk.wordpunct_tokenize(text))\n",
    "    return max(((lang, len(words & stopwords)) for lang, stopwords in stopWordsDictionary.items()), key = lambda x: x[1])[0]"
   ]
  },
  {
   "cell_type": "code",
   "execution_count": 16,
   "id": "f901bd90",
   "metadata": {},
   "outputs": [],
   "source": [
    "Global_News_Feeds['language']= Global_News_Feeds['Text'].astype(str).apply(get_language)"
   ]
  },
  {
   "cell_type": "code",
   "execution_count": 17,
   "id": "cd8a272f",
   "metadata": {},
   "outputs": [
    {
     "data": {
      "text/plain": [
       "(3305325, 2)"
      ]
     },
     "execution_count": 17,
     "metadata": {},
     "output_type": "execute_result"
    }
   ],
   "source": [
    "Global_News_Feeds.shape"
   ]
  },
  {
   "cell_type": "markdown",
   "id": "a1406dd9",
   "metadata": {},
   "source": [
    "- Create new DFs for global news that is in english language only."
   ]
  },
  {
   "cell_type": "code",
   "execution_count": 18,
   "id": "42d355c3",
   "metadata": {},
   "outputs": [],
   "source": [
    "English_Global_news = Global_News_Feeds[Global_News_Feeds.language == 'english']"
   ]
  },
  {
   "cell_type": "code",
   "execution_count": 19,
   "id": "9259cdf7",
   "metadata": {},
   "outputs": [
    {
     "data": {
      "text/plain": [
       "(1015669, 2)"
      ]
     },
     "execution_count": 19,
     "metadata": {},
     "output_type": "execute_result"
    }
   ],
   "source": [
    "English_Global_news.shape"
   ]
  },
  {
   "cell_type": "code",
   "execution_count": 22,
   "id": "c9a435bb",
   "metadata": {},
   "outputs": [
    {
     "data": {
      "text/html": [
       "<div>\n",
       "<style scoped>\n",
       "    .dataframe tbody tr th:only-of-type {\n",
       "        vertical-align: middle;\n",
       "    }\n",
       "\n",
       "    .dataframe tbody tr th {\n",
       "        vertical-align: top;\n",
       "    }\n",
       "\n",
       "    .dataframe thead th {\n",
       "        text-align: right;\n",
       "    }\n",
       "</style>\n",
       "<table border=\"1\" class=\"dataframe\">\n",
       "  <thead>\n",
       "    <tr style=\"text-align: right;\">\n",
       "      <th></th>\n",
       "      <th>Text</th>\n",
       "      <th>language</th>\n",
       "    </tr>\n",
       "  </thead>\n",
       "  <tbody>\n",
       "    <tr>\n",
       "      <th>0</th>\n",
       "      <td>Here Are the Details on Facebook's Global Part...</td>\n",
       "      <td>english</td>\n",
       "    </tr>\n",
       "    <tr>\n",
       "      <th>3</th>\n",
       "      <td>Petrol &amp; diesel on the rise post daily price r...</td>\n",
       "      <td>english</td>\n",
       "    </tr>\n",
       "  </tbody>\n",
       "</table>\n",
       "</div>"
      ],
      "text/plain": [
       "                                                Text language\n",
       "0  Here Are the Details on Facebook's Global Part...  english\n",
       "3  Petrol & diesel on the rise post daily price r...  english"
      ]
     },
     "execution_count": 22,
     "metadata": {},
     "output_type": "execute_result"
    }
   ],
   "source": [
    "English_Global_news.head(2)"
   ]
  },
  {
   "cell_type": "code",
   "execution_count": 20,
   "id": "bd62a2e6",
   "metadata": {},
   "outputs": [],
   "source": [
    "English_Lang = Lang[Lang.language == 'English']"
   ]
  },
  {
   "cell_type": "code",
   "execution_count": 21,
   "id": "3d5596fe",
   "metadata": {},
   "outputs": [
    {
     "data": {
      "text/plain": [
       "(1000, 2)"
      ]
     },
     "execution_count": 21,
     "metadata": {},
     "output_type": "execute_result"
    }
   ],
   "source": [
    "English_Lang.shape"
   ]
  },
  {
   "cell_type": "code",
   "execution_count": 23,
   "id": "512492de",
   "metadata": {},
   "outputs": [
    {
     "data": {
      "text/html": [
       "<div>\n",
       "<style scoped>\n",
       "    .dataframe tbody tr th:only-of-type {\n",
       "        vertical-align: middle;\n",
       "    }\n",
       "\n",
       "    .dataframe tbody tr th {\n",
       "        vertical-align: top;\n",
       "    }\n",
       "\n",
       "    .dataframe thead th {\n",
       "        text-align: right;\n",
       "    }\n",
       "</style>\n",
       "<table border=\"1\" class=\"dataframe\">\n",
       "  <thead>\n",
       "    <tr style=\"text-align: right;\">\n",
       "      <th></th>\n",
       "      <th>Text</th>\n",
       "      <th>language</th>\n",
       "    </tr>\n",
       "  </thead>\n",
       "  <tbody>\n",
       "    <tr>\n",
       "      <th>37</th>\n",
       "      <td>in  johnson was awarded an american institute ...</td>\n",
       "      <td>English</td>\n",
       "    </tr>\n",
       "    <tr>\n",
       "      <th>40</th>\n",
       "      <td>bussy-saint-georges has built its identity on ...</td>\n",
       "      <td>English</td>\n",
       "    </tr>\n",
       "  </tbody>\n",
       "</table>\n",
       "</div>"
      ],
      "text/plain": [
       "                                                 Text language\n",
       "37  in  johnson was awarded an american institute ...  English\n",
       "40  bussy-saint-georges has built its identity on ...  English"
      ]
     },
     "execution_count": 23,
     "metadata": {},
     "output_type": "execute_result"
    }
   ],
   "source": [
    "English_Lang.head(2)"
   ]
  },
  {
   "cell_type": "markdown",
   "id": "d59ba0f3",
   "metadata": {},
   "source": [
    "- Concat the last dataset"
   ]
  },
  {
   "cell_type": "code",
   "execution_count": 24,
   "id": "ea2cf3a1",
   "metadata": {},
   "outputs": [],
   "source": [
    "English_Global_news = pd.concat([English_Global_news,English_Lang])"
   ]
  },
  {
   "cell_type": "code",
   "execution_count": 25,
   "id": "8904ec24",
   "metadata": {},
   "outputs": [
    {
     "data": {
      "text/plain": [
       "(1016669, 2)"
      ]
     },
     "execution_count": 25,
     "metadata": {},
     "output_type": "execute_result"
    }
   ],
   "source": [
    "English_Global_news.shape"
   ]
  },
  {
   "cell_type": "code",
   "execution_count": 26,
   "id": "dd685dee",
   "metadata": {},
   "outputs": [
    {
     "data": {
      "text/html": [
       "<div>\n",
       "<style scoped>\n",
       "    .dataframe tbody tr th:only-of-type {\n",
       "        vertical-align: middle;\n",
       "    }\n",
       "\n",
       "    .dataframe tbody tr th {\n",
       "        vertical-align: top;\n",
       "    }\n",
       "\n",
       "    .dataframe thead th {\n",
       "        text-align: right;\n",
       "    }\n",
       "</style>\n",
       "<table border=\"1\" class=\"dataframe\">\n",
       "  <thead>\n",
       "    <tr style=\"text-align: right;\">\n",
       "      <th></th>\n",
       "      <th>Text</th>\n",
       "      <th>language</th>\n",
       "    </tr>\n",
       "  </thead>\n",
       "  <tbody>\n",
       "    <tr>\n",
       "      <th>0</th>\n",
       "      <td>Here Are the Details on Facebook's Global Part...</td>\n",
       "      <td>english</td>\n",
       "    </tr>\n",
       "    <tr>\n",
       "      <th>3</th>\n",
       "      <td>Petrol &amp; diesel on the rise post daily price r...</td>\n",
       "      <td>english</td>\n",
       "    </tr>\n",
       "  </tbody>\n",
       "</table>\n",
       "</div>"
      ],
      "text/plain": [
       "                                                Text language\n",
       "0  Here Are the Details on Facebook's Global Part...  english\n",
       "3  Petrol & diesel on the rise post daily price r...  english"
      ]
     },
     "execution_count": 26,
     "metadata": {},
     "output_type": "execute_result"
    }
   ],
   "source": [
    "English_Global_news.head(2)"
   ]
  },
  {
   "cell_type": "markdown",
   "id": "c804e0f8",
   "metadata": {},
   "source": [
    "- Since all the news in English, so there's no need for the language colum."
   ]
  },
  {
   "cell_type": "code",
   "execution_count": 27,
   "id": "6cb90ae1",
   "metadata": {},
   "outputs": [],
   "source": [
    "English_Global_news.drop(['language'], axis=1, inplace=True)"
   ]
  },
  {
   "cell_type": "code",
   "execution_count": 28,
   "id": "1acfe89f",
   "metadata": {},
   "outputs": [
    {
     "data": {
      "text/plain": [
       "(1016669, 1)"
      ]
     },
     "execution_count": 28,
     "metadata": {},
     "output_type": "execute_result"
    }
   ],
   "source": [
    "English_Global_news.shape"
   ]
  },
  {
   "cell_type": "markdown",
   "id": "b7f18a75",
   "metadata": {},
   "source": [
    "- Drop duplicate"
   ]
  },
  {
   "cell_type": "code",
   "execution_count": 29,
   "id": "4f4e72ce",
   "metadata": {},
   "outputs": [],
   "source": [
    "English_Global_news = English_Global_news.drop_duplicates()"
   ]
  },
  {
   "cell_type": "code",
   "execution_count": 30,
   "id": "0f4e9a20",
   "metadata": {},
   "outputs": [
    {
     "data": {
      "text/plain": [
       "(694951, 1)"
      ]
     },
     "execution_count": 30,
     "metadata": {},
     "output_type": "execute_result"
    }
   ],
   "source": [
    "English_Global_news.shape"
   ]
  },
  {
   "cell_type": "markdown",
   "id": "05b840f7",
   "metadata": {},
   "source": [
    "-  Checking for NaN "
   ]
  },
  {
   "cell_type": "code",
   "execution_count": 31,
   "id": "1b574abc",
   "metadata": {},
   "outputs": [
    {
     "data": {
      "text/plain": [
       "False"
      ]
     },
     "execution_count": 31,
     "metadata": {},
     "output_type": "execute_result"
    }
   ],
   "source": [
    "English_Global_news.isnull().values.any()"
   ]
  },
  {
   "cell_type": "markdown",
   "id": "ae6b9826",
   "metadata": {},
   "source": [
    "- Since the function above does not detect the language correctly,  we need to make sure in removing any character from any other language."
   ]
  },
  {
   "cell_type": "code",
   "execution_count": 32,
   "id": "d1de776a",
   "metadata": {},
   "outputs": [],
   "source": [
    "patternDel = r'[^\\x00-\\x7F]+'\n",
    "filter = English_Global_news['Text'].str.contains(patternDel)"
   ]
  },
  {
   "cell_type": "code",
   "execution_count": 33,
   "id": "ef9c39fa",
   "metadata": {},
   "outputs": [],
   "source": [
    "English_Global_news = English_Global_news[~filter]"
   ]
  },
  {
   "cell_type": "code",
   "execution_count": 34,
   "id": "50635fcb",
   "metadata": {},
   "outputs": [
    {
     "data": {
      "text/plain": [
       "(665181, 1)"
      ]
     },
     "execution_count": 34,
     "metadata": {},
     "output_type": "execute_result"
    }
   ],
   "source": [
    "English_Global_news.shape"
   ]
  },
  {
   "cell_type": "markdown",
   "id": "cda7dea8",
   "metadata": {},
   "source": [
    "- Sample of the data:"
   ]
  },
  {
   "cell_type": "code",
   "execution_count": 35,
   "id": "3a71f1c2",
   "metadata": {},
   "outputs": [
    {
     "data": {
      "text/html": [
       "<div>\n",
       "<style scoped>\n",
       "    .dataframe tbody tr th:only-of-type {\n",
       "        vertical-align: middle;\n",
       "    }\n",
       "\n",
       "    .dataframe tbody tr th {\n",
       "        vertical-align: top;\n",
       "    }\n",
       "\n",
       "    .dataframe thead th {\n",
       "        text-align: right;\n",
       "    }\n",
       "</style>\n",
       "<table border=\"1\" class=\"dataframe\">\n",
       "  <thead>\n",
       "    <tr style=\"text-align: right;\">\n",
       "      <th></th>\n",
       "      <th>Text</th>\n",
       "    </tr>\n",
       "  </thead>\n",
       "  <tbody>\n",
       "    <tr>\n",
       "      <th>1606425</th>\n",
       "      <td>Lancaster service member surprises little sist...</td>\n",
       "    </tr>\n",
       "    <tr>\n",
       "      <th>1304372</th>\n",
       "      <td>Understanding the Fake News Phenomenon</td>\n",
       "    </tr>\n",
       "    <tr>\n",
       "      <th>424391</th>\n",
       "      <td>Sligo group honoured with Spanish civil order</td>\n",
       "    </tr>\n",
       "    <tr>\n",
       "      <th>1329427</th>\n",
       "      <td>Greenville kayak maker sending dozens to polic...</td>\n",
       "    </tr>\n",
       "    <tr>\n",
       "      <th>1387230</th>\n",
       "      <td>Couple Celebrates Cracker Barrel Milestone Wit...</td>\n",
       "    </tr>\n",
       "    <tr>\n",
       "      <th>814850</th>\n",
       "      <td>Industry News Diodes Market Size, Share, Growt...</td>\n",
       "    </tr>\n",
       "    <tr>\n",
       "      <th>1334144</th>\n",
       "      <td>Major Transportation Projects in Eastvale FAQ's</td>\n",
       "    </tr>\n",
       "    <tr>\n",
       "      <th>164984</th>\n",
       "      <td>Listowel man charged with careless driving aft...</td>\n",
       "    </tr>\n",
       "    <tr>\n",
       "      <th>231567</th>\n",
       "      <td>What Are CGI Scripts and How Do They Improve W...</td>\n",
       "    </tr>\n",
       "    <tr>\n",
       "      <th>1002386</th>\n",
       "      <td>New Australian PM Gets to Work; Gov't Support ...</td>\n",
       "    </tr>\n",
       "    <tr>\n",
       "      <th>79050</th>\n",
       "      <td>'I came with love' Asantehene praises golf par...</td>\n",
       "    </tr>\n",
       "    <tr>\n",
       "      <th>315567</th>\n",
       "      <td>The struggle to be America&amp;#8217;s 1st Native ...</td>\n",
       "    </tr>\n",
       "    <tr>\n",
       "      <th>326483</th>\n",
       "      <td>How fever before IIM entrance exam put Nandan ...</td>\n",
       "    </tr>\n",
       "    <tr>\n",
       "      <th>506049</th>\n",
       "      <td>Brokerages Expect Arena Pharmaceuticals, Inc. ...</td>\n",
       "    </tr>\n",
       "    <tr>\n",
       "      <th>755824</th>\n",
       "      <td>Brickbat: Cover Up</td>\n",
       "    </tr>\n",
       "  </tbody>\n",
       "</table>\n",
       "</div>"
      ],
      "text/plain": [
       "                                                      Text\n",
       "1606425  Lancaster service member surprises little sist...\n",
       "1304372             Understanding the Fake News Phenomenon\n",
       "424391       Sligo group honoured with Spanish civil order\n",
       "1329427  Greenville kayak maker sending dozens to polic...\n",
       "1387230  Couple Celebrates Cracker Barrel Milestone Wit...\n",
       "814850   Industry News Diodes Market Size, Share, Growt...\n",
       "1334144    Major Transportation Projects in Eastvale FAQ's\n",
       "164984   Listowel man charged with careless driving aft...\n",
       "231567   What Are CGI Scripts and How Do They Improve W...\n",
       "1002386  New Australian PM Gets to Work; Gov't Support ...\n",
       "79050    'I came with love' Asantehene praises golf par...\n",
       "315567   The struggle to be America&#8217;s 1st Native ...\n",
       "326483   How fever before IIM entrance exam put Nandan ...\n",
       "506049   Brokerages Expect Arena Pharmaceuticals, Inc. ...\n",
       "755824                                  Brickbat: Cover Up"
      ]
     },
     "execution_count": 35,
     "metadata": {},
     "output_type": "execute_result"
    }
   ],
   "source": [
    "English_Global_news.sample(15)"
   ]
  },
  {
   "cell_type": "markdown",
   "id": "66771dd5",
   "metadata": {},
   "source": [
    "### Text Preprocessing"
   ]
  },
  {
   "cell_type": "code",
   "execution_count": 36,
   "id": "9ab81848",
   "metadata": {},
   "outputs": [],
   "source": [
    "def precosseing_pipeline(text):\n",
    "        # remove urls\n",
    "        text = re.sub(r'https?://(?:[-\\w.]|(?:%[\\da-fA-F]{2}))+', ' ', text)\n",
    "        # remove punctuations \n",
    "        text = (\"\".join([ch for ch in text if ch not in st.punctuation]))\n",
    "        # remove non-alphanumeric characters\n",
    "        text = re.sub(r'[^a-zA-Z]', ' ', text)\n",
    "        # lower casing\n",
    "        text = text.lower()\n",
    "        # convert text to tokens\n",
    "        text = re.split('\\s+' ,text)\n",
    "        tokens = [x.lower() for x in text]\n",
    "        # remove stopwords using NLTK corpus stopwords list to match\n",
    "        tokens = [word for word in text if word not in nltk.corpus.stopwords.words('english')]\n",
    "        # convert words to feature vectors\n",
    "        text = \" \".join([word for word in tokens])     \n",
    "        return text"
   ]
  },
  {
   "cell_type": "code",
   "execution_count": 37,
   "id": "eb280769",
   "metadata": {},
   "outputs": [],
   "source": [
    "English_Global_news['Text'] = English_Global_news['Text'].apply(precosseing_pipeline)"
   ]
  },
  {
   "cell_type": "markdown",
   "id": "b0d20c6a",
   "metadata": {},
   "source": [
    "### Apply Lemmatization"
   ]
  },
  {
   "cell_type": "markdown",
   "id": "46c4962b",
   "metadata": {},
   "source": [
    " - Lemmatization: cut word down to base form using vocabulary and morphological analysis."
   ]
  },
  {
   "cell_type": "code",
   "execution_count": 39,
   "id": "5cb7397c",
   "metadata": {},
   "outputs": [],
   "source": [
    "def apply_lemmatize(text):\n",
    "    text_split = text.split(' ')\n",
    "    lem_v_text = ''\n",
    "    \n",
    "    for text in text_split:\n",
    "        lem_v_text += lemmatizer.lemmatize(text, pos='v') + ' '\n",
    "        text_split  = lem_v_text.split(' ')\n",
    "        lem_text    =''\n",
    "        \n",
    "    for text in text_split:\n",
    "        lem_text += lemmatizer.lemmatize(text, pos='a') + ' '\n",
    "    return lem_text"
   ]
  },
  {
   "cell_type": "code",
   "execution_count": 42,
   "id": "775a4629",
   "metadata": {},
   "outputs": [],
   "source": [
    "lemmatizer = WordNetLemmatizer()\n",
    "English_Global_news['Text_lemma'] = English_Global_news['Text'].apply(apply_lemmatize)"
   ]
  },
  {
   "cell_type": "code",
   "execution_count": 43,
   "id": "9d8d316f",
   "metadata": {},
   "outputs": [
    {
     "data": {
      "text/html": [
       "<div>\n",
       "<style scoped>\n",
       "    .dataframe tbody tr th:only-of-type {\n",
       "        vertical-align: middle;\n",
       "    }\n",
       "\n",
       "    .dataframe tbody tr th {\n",
       "        vertical-align: top;\n",
       "    }\n",
       "\n",
       "    .dataframe thead th {\n",
       "        text-align: right;\n",
       "    }\n",
       "</style>\n",
       "<table border=\"1\" class=\"dataframe\">\n",
       "  <thead>\n",
       "    <tr style=\"text-align: right;\">\n",
       "      <th></th>\n",
       "      <th>Text</th>\n",
       "      <th>Text_lemma</th>\n",
       "    </tr>\n",
       "  </thead>\n",
       "  <tbody>\n",
       "    <tr>\n",
       "      <th>248933</th>\n",
       "      <td>kentucky cabinet health family services redesi...</td>\n",
       "      <td>kentucky cabinet health family service redesig...</td>\n",
       "    </tr>\n",
       "    <tr>\n",
       "      <th>1490395</th>\n",
       "      <td>blue earth county looking election judges ahea...</td>\n",
       "      <td>blue earth county look election judge ahead no...</td>\n",
       "    </tr>\n",
       "    <tr>\n",
       "      <th>238841</th>\n",
       "      <td>redbox sony pictures home entertainment announ...</td>\n",
       "      <td>redbox sony picture home entertainment announc...</td>\n",
       "    </tr>\n",
       "    <tr>\n",
       "      <th>47202</th>\n",
       "      <td>download gods soldiers penguin anthology conte...</td>\n",
       "      <td>download gods soldier penguin anthology contem...</td>\n",
       "    </tr>\n",
       "    <tr>\n",
       "      <th>1117416</th>\n",
       "      <td>michigans tarik black get ready nico collins</td>\n",
       "      <td>michigans tarik black get ready nico collins</td>\n",
       "    </tr>\n",
       "  </tbody>\n",
       "</table>\n",
       "</div>"
      ],
      "text/plain": [
       "                                                      Text  \\\n",
       "248933   kentucky cabinet health family services redesi...   \n",
       "1490395  blue earth county looking election judges ahea...   \n",
       "238841   redbox sony pictures home entertainment announ...   \n",
       "47202    download gods soldiers penguin anthology conte...   \n",
       "1117416       michigans tarik black get ready nico collins   \n",
       "\n",
       "                                                Text_lemma  \n",
       "248933   kentucky cabinet health family service redesig...  \n",
       "1490395  blue earth county look election judge ahead no...  \n",
       "238841   redbox sony picture home entertainment announc...  \n",
       "47202    download gods soldier penguin anthology contem...  \n",
       "1117416     michigans tarik black get ready nico collins    "
      ]
     },
     "execution_count": 43,
     "metadata": {},
     "output_type": "execute_result"
    }
   ],
   "source": [
    "English_Global_news.sample(5)"
   ]
  },
  {
   "cell_type": "markdown",
   "id": "efdc000b",
   "metadata": {},
   "source": [
    "- Store the data"
   ]
  },
  {
   "cell_type": "code",
   "execution_count": null,
   "id": "ab0b89f6",
   "metadata": {},
   "outputs": [],
   "source": [
    "# csv"
   ]
  },
  {
   "cell_type": "code",
   "execution_count": 44,
   "id": "d2946098",
   "metadata": {},
   "outputs": [],
   "source": [
    "English_Global_news.to_csv('English_Global_news.csv')"
   ]
  },
  {
   "cell_type": "code",
   "execution_count": null,
   "id": "186941d7",
   "metadata": {},
   "outputs": [],
   "source": [
    "# pickle"
   ]
  },
  {
   "cell_type": "code",
   "execution_count": 45,
   "id": "95c41eaa",
   "metadata": {},
   "outputs": [],
   "source": [
    "English_Global_news.to_pickle(\"./English_Global_news.pkl\")"
   ]
  },
  {
   "cell_type": "code",
   "execution_count": null,
   "id": "3601ff86",
   "metadata": {},
   "outputs": [],
   "source": [
    "# sql"
   ]
  },
  {
   "cell_type": "code",
   "execution_count": 46,
   "id": "300e8666",
   "metadata": {},
   "outputs": [],
   "source": [
    "engine = create_engine('sqlite://', echo=False)\n",
    "English_Global_news.to_sql('English_Global_news', con=engine)"
   ]
  }
 ],
 "metadata": {
  "kernelspec": {
   "display_name": "Python 3",
   "language": "python",
   "name": "python3"
  },
  "language_info": {
   "codemirror_mode": {
    "name": "ipython",
    "version": 3
   },
   "file_extension": ".py",
   "mimetype": "text/x-python",
   "name": "python",
   "nbconvert_exporter": "python",
   "pygments_lexer": "ipython3",
   "version": "3.8.8"
  }
 },
 "nbformat": 4,
 "nbformat_minor": 5
}
