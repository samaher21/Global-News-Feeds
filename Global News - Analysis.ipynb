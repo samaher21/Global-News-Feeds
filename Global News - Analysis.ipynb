{
 "cells": [
  {
   "cell_type": "markdown",
   "id": "6ced56aa",
   "metadata": {},
   "source": [
    "### Goal of this project: \n",
    "Given a global news, we are challenged to discover  \n",
    "the topics that occur in a collections of articles . "
   ]
  },
  {
   "cell_type": "markdown",
   "id": "27f3bd72",
   "metadata": {},
   "source": [
    "### Setup"
   ]
  },
  {
   "cell_type": "markdown",
   "id": "2061c288",
   "metadata": {},
   "source": [
    "Data manipulation libraries:"
   ]
  },
  {
   "cell_type": "code",
   "execution_count": 1,
   "id": "5f514745",
   "metadata": {},
   "outputs": [],
   "source": [
    "import pandas as pd\n",
    "import numpy  as np\n",
    "import spacy\n",
    "import re"
   ]
  },
  {
   "cell_type": "code",
   "execution_count": 2,
   "id": "8f798944",
   "metadata": {},
   "outputs": [],
   "source": [
    "from sklearn.feature_extraction.text  import CountVectorizer , TfidfVectorizer\n",
    "from sklearn.metrics.pairwise         import cosine_similarity"
   ]
  },
  {
   "cell_type": "code",
   "execution_count": 3,
   "id": "73e3f69f",
   "metadata": {},
   "outputs": [],
   "source": [
    "from sklearn.decomposition            import PCA\n",
    "from sklearn.decomposition            import TruncatedSVD\n",
    "from sklearn.cluster                  import KMeans"
   ]
  },
  {
   "cell_type": "code",
   "execution_count": 72,
   "id": "9559085c",
   "metadata": {},
   "outputs": [],
   "source": [
    "from   matplotlib        import pyplot as plt\n",
    "import matplotlib.colors               as mcolors\n",
    "import seaborn                         as sns"
   ]
  },
  {
   "cell_type": "markdown",
   "id": "7bc4aae3",
   "metadata": {},
   "source": [
    "Classes instances"
   ]
  },
  {
   "cell_type": "code",
   "execution_count": 4,
   "id": "14bd2fdb",
   "metadata": {},
   "outputs": [],
   "source": [
    "cv         = CountVectorizer(stop_words='english', max_df=3)\n",
    "cv_tfidf   = TfidfVectorizer(stop_words='english', max_df=3)"
   ]
  },
  {
   "cell_type": "code",
   "execution_count": 5,
   "id": "72266628",
   "metadata": {},
   "outputs": [],
   "source": [
    "pca = PCA(n_components=4)\n",
    "lsa = TruncatedSVD(n_components=4)"
   ]
  },
  {
   "cell_type": "markdown",
   "id": "a8adca57",
   "metadata": {},
   "source": [
    "### Dataset"
   ]
  },
  {
   "cell_type": "code",
   "execution_count": 6,
   "id": "cde70b3d",
   "metadata": {},
   "outputs": [],
   "source": [
    "file_path = '/Users/macbookproretina13inch/Desktop/GNF/Data/English_Global_news.csv'\n",
    "\n",
    "Global_News = pd.read_csv(file_path,index_col=0 )"
   ]
  },
  {
   "cell_type": "code",
   "execution_count": 7,
   "id": "2dfbe420",
   "metadata": {},
   "outputs": [],
   "source": [
    "Global_News.index = pd.RangeIndex(start=0, stop=len(Global_News), step=1)"
   ]
  },
  {
   "cell_type": "code",
   "execution_count": 8,
   "id": "daa56f58",
   "metadata": {},
   "outputs": [
    {
     "data": {
      "text/html": [
       "<div>\n",
       "<style scoped>\n",
       "    .dataframe tbody tr th:only-of-type {\n",
       "        vertical-align: middle;\n",
       "    }\n",
       "\n",
       "    .dataframe tbody tr th {\n",
       "        vertical-align: top;\n",
       "    }\n",
       "\n",
       "    .dataframe thead th {\n",
       "        text-align: right;\n",
       "    }\n",
       "</style>\n",
       "<table border=\"1\" class=\"dataframe\">\n",
       "  <thead>\n",
       "    <tr style=\"text-align: right;\">\n",
       "      <th></th>\n",
       "      <th>Text</th>\n",
       "      <th>Text_lemma</th>\n",
       "    </tr>\n",
       "  </thead>\n",
       "  <tbody>\n",
       "    <tr>\n",
       "      <th>0</th>\n",
       "      <td>details facebooks global partner summit</td>\n",
       "      <td>detail facebooks global partner summit</td>\n",
       "    </tr>\n",
       "    <tr>\n",
       "      <th>1</th>\n",
       "      <td>petrol diesel rise post daily price revisions ...</td>\n",
       "      <td>petrol diesel rise post daily price revisions ...</td>\n",
       "    </tr>\n",
       "  </tbody>\n",
       "</table>\n",
       "</div>"
      ],
      "text/plain": [
       "                                                Text  \\\n",
       "0            details facebooks global partner summit   \n",
       "1  petrol diesel rise post daily price revisions ...   \n",
       "\n",
       "                                          Text_lemma  \n",
       "0           detail facebooks global partner summit    \n",
       "1  petrol diesel rise post daily price revisions ...  "
      ]
     },
     "execution_count": 8,
     "metadata": {},
     "output_type": "execute_result"
    }
   ],
   "source": [
    "Global_News.head(2)"
   ]
  },
  {
   "cell_type": "markdown",
   "id": "f6129cb9",
   "metadata": {},
   "source": [
    "#### Taking a sample to avoid high processing cost"
   ]
  },
  {
   "cell_type": "code",
   "execution_count": 9,
   "id": "c83df6e0",
   "metadata": {},
   "outputs": [],
   "source": [
    "Global_News_spl  = Global_News[:15000]"
   ]
  },
  {
   "cell_type": "code",
   "execution_count": 10,
   "id": "205bd10a",
   "metadata": {},
   "outputs": [
    {
     "data": {
      "text/plain": [
       "(15000, 2)"
      ]
     },
     "execution_count": 10,
     "metadata": {},
     "output_type": "execute_result"
    }
   ],
   "source": [
    "Global_News_spl.shape"
   ]
  },
  {
   "cell_type": "markdown",
   "id": "976d5119",
   "metadata": {},
   "source": [
    "### Document Similarity Approachs"
   ]
  },
  {
   "cell_type": "markdown",
   "id": "7df01ecd",
   "metadata": {},
   "source": [
    "### Spacy"
   ]
  },
  {
   "cell_type": "code",
   "execution_count": 11,
   "id": "ba85f689",
   "metadata": {},
   "outputs": [],
   "source": [
    "nlp = spacy.load('en_core_web_sm')"
   ]
  },
  {
   "cell_type": "code",
   "execution_count": 12,
   "id": "ffc5c94f",
   "metadata": {},
   "outputs": [
    {
     "name": "stderr",
     "output_type": "stream",
     "text": [
      "<ipython-input-12-e8395a24657e>:1: SettingWithCopyWarning: \n",
      "A value is trying to be set on a copy of a slice from a DataFrame.\n",
      "Try using .loc[row_indexer,col_indexer] = value instead\n",
      "\n",
      "See the caveats in the documentation: https://pandas.pydata.org/pandas-docs/stable/user_guide/indexing.html#returning-a-view-versus-a-copy\n",
      "  Global_News_spl['spacy_doc'] = Global_News_spl['Text'].astype(str).apply(nlp)\n"
     ]
    }
   ],
   "source": [
    "Global_News_spl['spacy_doc'] = Global_News_spl['Text'].astype(str).apply(nlp)"
   ]
  },
  {
   "cell_type": "code",
   "execution_count": 13,
   "id": "d8a051b2",
   "metadata": {},
   "outputs": [
    {
     "data": {
      "text/html": [
       "<div>\n",
       "<style scoped>\n",
       "    .dataframe tbody tr th:only-of-type {\n",
       "        vertical-align: middle;\n",
       "    }\n",
       "\n",
       "    .dataframe tbody tr th {\n",
       "        vertical-align: top;\n",
       "    }\n",
       "\n",
       "    .dataframe thead th {\n",
       "        text-align: right;\n",
       "    }\n",
       "</style>\n",
       "<table border=\"1\" class=\"dataframe\">\n",
       "  <thead>\n",
       "    <tr style=\"text-align: right;\">\n",
       "      <th></th>\n",
       "      <th>Text</th>\n",
       "      <th>Text_lemma</th>\n",
       "      <th>spacy_doc</th>\n",
       "    </tr>\n",
       "  </thead>\n",
       "  <tbody>\n",
       "    <tr>\n",
       "      <th>0</th>\n",
       "      <td>details facebooks global partner summit</td>\n",
       "      <td>detail facebooks global partner summit</td>\n",
       "      <td>(details, facebooks, global, partner, summit)</td>\n",
       "    </tr>\n",
       "    <tr>\n",
       "      <th>1</th>\n",
       "      <td>petrol diesel rise post daily price revisions ...</td>\n",
       "      <td>petrol diesel rise post daily price revisions ...</td>\n",
       "      <td>(petrol, diesel, rise, post, daily, price, rev...</td>\n",
       "    </tr>\n",
       "  </tbody>\n",
       "</table>\n",
       "</div>"
      ],
      "text/plain": [
       "                                                Text  \\\n",
       "0            details facebooks global partner summit   \n",
       "1  petrol diesel rise post daily price revisions ...   \n",
       "\n",
       "                                          Text_lemma  \\\n",
       "0           detail facebooks global partner summit     \n",
       "1  petrol diesel rise post daily price revisions ...   \n",
       "\n",
       "                                           spacy_doc  \n",
       "0      (details, facebooks, global, partner, summit)  \n",
       "1  (petrol, diesel, rise, post, daily, price, rev...  "
      ]
     },
     "execution_count": 13,
     "metadata": {},
     "output_type": "execute_result"
    }
   ],
   "source": [
    "Global_News_spl.head(2)"
   ]
  },
  {
   "cell_type": "code",
   "execution_count": null,
   "id": "72cde9a1",
   "metadata": {},
   "outputs": [],
   "source": [
    "#Add some columns"
   ]
  },
  {
   "cell_type": "code",
   "execution_count": 115,
   "id": "1fd4a9c6",
   "metadata": {},
   "outputs": [
    {
     "name": "stderr",
     "output_type": "stream",
     "text": [
      "<ipython-input-115-5eba0f8e5106>:4: DeprecationWarning: [W107] The property `Doc.is_parsed` is deprecated. Use `Doc.has_annotation(\"DEP\")` instead.\n",
      "  if doc.is_parsed:\n",
      "<ipython-input-115-5eba0f8e5106>:11: SettingWithCopyWarning: \n",
      "A value is trying to be set on a copy of a slice from a DataFrame.\n",
      "Try using .loc[row_indexer,col_indexer] = value instead\n",
      "\n",
      "See the caveats in the documentation: https://pandas.pydata.org/pandas-docs/stable/user_guide/indexing.html#returning-a-view-versus-a-copy\n",
      "  Global_News_spl['species_lemma']  = lemma\n"
     ]
    }
   ],
   "source": [
    "lemma  = []\n",
    "for doc in nlp.pipe(Global_News_spl['Text'].astype('unicode').values, batch_size=50,\n",
    "                       ):\n",
    "    if doc.is_parsed:\n",
    "        lemma.append([n.lemma_ for n in doc])\n",
    "    else:\n",
    "        # We want to make sure that the lists of parsed results have the\n",
    "        # same number of entries of the original Dataframe, so add some blanks in case the parse fails\n",
    "        lemma.append(None)\n",
    "        \n",
    "Global_News_spl['species_lemma']  = lemma"
   ]
  },
  {
   "cell_type": "code",
   "execution_count": 116,
   "id": "5126902f",
   "metadata": {},
   "outputs": [
    {
     "data": {
      "text/html": [
       "<div>\n",
       "<style scoped>\n",
       "    .dataframe tbody tr th:only-of-type {\n",
       "        vertical-align: middle;\n",
       "    }\n",
       "\n",
       "    .dataframe tbody tr th {\n",
       "        vertical-align: top;\n",
       "    }\n",
       "\n",
       "    .dataframe thead th {\n",
       "        text-align: right;\n",
       "    }\n",
       "</style>\n",
       "<table border=\"1\" class=\"dataframe\">\n",
       "  <thead>\n",
       "    <tr style=\"text-align: right;\">\n",
       "      <th></th>\n",
       "      <th>Text</th>\n",
       "      <th>Text_lemma</th>\n",
       "      <th>spacy_doc</th>\n",
       "      <th>species_lemma</th>\n",
       "      <th>Topic</th>\n",
       "    </tr>\n",
       "  </thead>\n",
       "  <tbody>\n",
       "    <tr>\n",
       "      <th>0</th>\n",
       "      <td>details facebooks global partner summit</td>\n",
       "      <td>detail facebooks global partner summit</td>\n",
       "      <td>(details, facebooks, global, partner, summit)</td>\n",
       "      <td>[detail, facebook, global, partner, summit]</td>\n",
       "      <td>Humanities</td>\n",
       "    </tr>\n",
       "    <tr>\n",
       "      <th>1</th>\n",
       "      <td>petrol diesel rise post daily price revisions ...</td>\n",
       "      <td>petrol diesel rise post daily price revisions ...</td>\n",
       "      <td>(petrol, diesel, rise, post, daily, price, rev...</td>\n",
       "      <td>[petrol, diesel, rise, post, daily, price, rev...</td>\n",
       "      <td>Political</td>\n",
       "    </tr>\n",
       "  </tbody>\n",
       "</table>\n",
       "</div>"
      ],
      "text/plain": [
       "                                                Text  \\\n",
       "0            details facebooks global partner summit   \n",
       "1  petrol diesel rise post daily price revisions ...   \n",
       "\n",
       "                                          Text_lemma  \\\n",
       "0           detail facebooks global partner summit     \n",
       "1  petrol diesel rise post daily price revisions ...   \n",
       "\n",
       "                                           spacy_doc  \\\n",
       "0      (details, facebooks, global, partner, summit)   \n",
       "1  (petrol, diesel, rise, post, daily, price, rev...   \n",
       "\n",
       "                                       species_lemma        Topic  \n",
       "0        [detail, facebook, global, partner, summit]  Humanities   \n",
       "1  [petrol, diesel, rise, post, daily, price, rev...    Political  "
      ]
     },
     "execution_count": 116,
     "metadata": {},
     "output_type": "execute_result"
    }
   ],
   "source": [
    "Global_News_spl.head(2)"
   ]
  },
  {
   "cell_type": "code",
   "execution_count": 16,
   "id": "4b12637c",
   "metadata": {},
   "outputs": [],
   "source": [
    "def get_text(text):\n",
    "    text = re.sub(r'[^a-zA-Z]', ' ', text) \n",
    "    return text"
   ]
  },
  {
   "cell_type": "code",
   "execution_count": 17,
   "id": "5b2b2e3b",
   "metadata": {},
   "outputs": [
    {
     "name": "stderr",
     "output_type": "stream",
     "text": [
      "<ipython-input-17-2b96efacaf7d>:1: SettingWithCopyWarning: \n",
      "A value is trying to be set on a copy of a slice from a DataFrame.\n",
      "Try using .loc[row_indexer,col_indexer] = value instead\n",
      "\n",
      "See the caveats in the documentation: https://pandas.pydata.org/pandas-docs/stable/user_guide/indexing.html#returning-a-view-versus-a-copy\n",
      "  Global_News_spl['species_lemma'] = Global_News_spl['species_lemma'].astype(str).apply(get_text)\n"
     ]
    }
   ],
   "source": [
    "Global_News_spl['species_lemma'] = Global_News_spl['species_lemma'].astype(str).apply(get_text)"
   ]
  },
  {
   "cell_type": "code",
   "execution_count": 18,
   "id": "9d882a57",
   "metadata": {},
   "outputs": [
    {
     "data": {
      "text/html": [
       "<div>\n",
       "<style scoped>\n",
       "    .dataframe tbody tr th:only-of-type {\n",
       "        vertical-align: middle;\n",
       "    }\n",
       "\n",
       "    .dataframe tbody tr th {\n",
       "        vertical-align: top;\n",
       "    }\n",
       "\n",
       "    .dataframe thead th {\n",
       "        text-align: right;\n",
       "    }\n",
       "</style>\n",
       "<table border=\"1\" class=\"dataframe\">\n",
       "  <thead>\n",
       "    <tr style=\"text-align: right;\">\n",
       "      <th></th>\n",
       "      <th>Text</th>\n",
       "      <th>Text_lemma</th>\n",
       "      <th>spacy_doc</th>\n",
       "      <th>species_lemma</th>\n",
       "    </tr>\n",
       "  </thead>\n",
       "  <tbody>\n",
       "    <tr>\n",
       "      <th>0</th>\n",
       "      <td>details facebooks global partner summit</td>\n",
       "      <td>detail facebooks global partner summit</td>\n",
       "      <td>(details, facebooks, global, partner, summit)</td>\n",
       "      <td>detail    facebook    global    partner    s...</td>\n",
       "    </tr>\n",
       "    <tr>\n",
       "      <th>1</th>\n",
       "      <td>petrol diesel rise post daily price revisions ...</td>\n",
       "      <td>petrol diesel rise post daily price revisions ...</td>\n",
       "      <td>(petrol, diesel, rise, post, daily, price, rev...</td>\n",
       "      <td>petrol    diesel    rise    post    daily   ...</td>\n",
       "    </tr>\n",
       "  </tbody>\n",
       "</table>\n",
       "</div>"
      ],
      "text/plain": [
       "                                                Text  \\\n",
       "0            details facebooks global partner summit   \n",
       "1  petrol diesel rise post daily price revisions ...   \n",
       "\n",
       "                                          Text_lemma  \\\n",
       "0           detail facebooks global partner summit     \n",
       "1  petrol diesel rise post daily price revisions ...   \n",
       "\n",
       "                                           spacy_doc  \\\n",
       "0      (details, facebooks, global, partner, summit)   \n",
       "1  (petrol, diesel, rise, post, daily, price, rev...   \n",
       "\n",
       "                                       species_lemma  \n",
       "0    detail    facebook    global    partner    s...  \n",
       "1    petrol    diesel    rise    post    daily   ...  "
      ]
     },
     "execution_count": 18,
     "metadata": {},
     "output_type": "execute_result"
    }
   ],
   "source": [
    "Global_News_spl.head(2)"
   ]
  },
  {
   "cell_type": "markdown",
   "id": "24b8e1a5",
   "metadata": {},
   "source": [
    "# "
   ]
  },
  {
   "cell_type": "markdown",
   "id": "aa551e27",
   "metadata": {},
   "source": [
    "### CountVectorizer"
   ]
  },
  {
   "cell_type": "code",
   "execution_count": 19,
   "id": "ccf2b0de",
   "metadata": {},
   "outputs": [],
   "source": [
    "X     =  Global_News_spl.species_lemma\n",
    "X_cv  =  cv.fit_transform(X)"
   ]
  },
  {
   "cell_type": "code",
   "execution_count": 20,
   "id": "43844b85",
   "metadata": {},
   "outputs": [],
   "source": [
    "Document_TM = pd.DataFrame(X_cv.toarray(),columns=cv.get_feature_names())"
   ]
  },
  {
   "cell_type": "code",
   "execution_count": 21,
   "id": "e7f43830",
   "metadata": {},
   "outputs": [
    {
     "data": {
      "text/html": [
       "<div>\n",
       "<style scoped>\n",
       "    .dataframe tbody tr th:only-of-type {\n",
       "        vertical-align: middle;\n",
       "    }\n",
       "\n",
       "    .dataframe tbody tr th {\n",
       "        vertical-align: top;\n",
       "    }\n",
       "\n",
       "    .dataframe thead th {\n",
       "        text-align: right;\n",
       "    }\n",
       "</style>\n",
       "<table border=\"1\" class=\"dataframe\">\n",
       "  <thead>\n",
       "    <tr style=\"text-align: right;\">\n",
       "      <th></th>\n",
       "      <th>aa</th>\n",
       "      <th>aaa</th>\n",
       "      <th>aaco</th>\n",
       "      <th>aadhaar</th>\n",
       "      <th>aafias</th>\n",
       "      <th>aais</th>\n",
       "      <th>aamc</th>\n",
       "      <th>aampw</th>\n",
       "      <th>aapl</th>\n",
       "      <th>aarey</th>\n",
       "      <th>...</th>\n",
       "      <th>zookeepers</th>\n",
       "      <th>zoom</th>\n",
       "      <th>zoos</th>\n",
       "      <th>zosano</th>\n",
       "      <th>zuma</th>\n",
       "      <th>zumas</th>\n",
       "      <th>zwave</th>\n",
       "      <th>zweig</th>\n",
       "      <th>zyme</th>\n",
       "      <th>zzen</th>\n",
       "    </tr>\n",
       "  </thead>\n",
       "  <tbody>\n",
       "    <tr>\n",
       "      <th>0</th>\n",
       "      <td>0</td>\n",
       "      <td>0</td>\n",
       "      <td>0</td>\n",
       "      <td>0</td>\n",
       "      <td>0</td>\n",
       "      <td>0</td>\n",
       "      <td>0</td>\n",
       "      <td>0</td>\n",
       "      <td>0</td>\n",
       "      <td>0</td>\n",
       "      <td>...</td>\n",
       "      <td>0</td>\n",
       "      <td>0</td>\n",
       "      <td>0</td>\n",
       "      <td>0</td>\n",
       "      <td>0</td>\n",
       "      <td>0</td>\n",
       "      <td>0</td>\n",
       "      <td>0</td>\n",
       "      <td>0</td>\n",
       "      <td>0</td>\n",
       "    </tr>\n",
       "    <tr>\n",
       "      <th>1</th>\n",
       "      <td>0</td>\n",
       "      <td>0</td>\n",
       "      <td>0</td>\n",
       "      <td>0</td>\n",
       "      <td>0</td>\n",
       "      <td>0</td>\n",
       "      <td>0</td>\n",
       "      <td>0</td>\n",
       "      <td>0</td>\n",
       "      <td>0</td>\n",
       "      <td>...</td>\n",
       "      <td>0</td>\n",
       "      <td>0</td>\n",
       "      <td>0</td>\n",
       "      <td>0</td>\n",
       "      <td>0</td>\n",
       "      <td>0</td>\n",
       "      <td>0</td>\n",
       "      <td>0</td>\n",
       "      <td>0</td>\n",
       "      <td>0</td>\n",
       "    </tr>\n",
       "  </tbody>\n",
       "</table>\n",
       "<p>2 rows × 15082 columns</p>\n",
       "</div>"
      ],
      "text/plain": [
       "   aa  aaa  aaco  aadhaar  aafias  aais  aamc  aampw  aapl  aarey  ...  \\\n",
       "0   0    0     0        0       0     0     0      0     0      0  ...   \n",
       "1   0    0     0        0       0     0     0      0     0      0  ...   \n",
       "\n",
       "   zookeepers  zoom  zoos  zosano  zuma  zumas  zwave  zweig  zyme  zzen  \n",
       "0           0     0     0       0     0      0      0      0     0     0  \n",
       "1           0     0     0       0     0      0      0      0     0     0  \n",
       "\n",
       "[2 rows x 15082 columns]"
      ]
     },
     "execution_count": 21,
     "metadata": {},
     "output_type": "execute_result"
    }
   ],
   "source": [
    "Document_TM.head(2)"
   ]
  },
  {
   "cell_type": "markdown",
   "id": "cb743268",
   "metadata": {},
   "source": [
    "- Check cosine similarity"
   ]
  },
  {
   "cell_type": "code",
   "execution_count": 22,
   "id": "6090a101",
   "metadata": {},
   "outputs": [
    {
     "data": {
      "text/plain": [
       "array([[0., 0., 0., ..., 0., 0., 0.],\n",
       "       [0., 1., 0., ..., 0., 0., 0.],\n",
       "       [0., 0., 1., ..., 0., 0., 0.],\n",
       "       ...,\n",
       "       [0., 0., 0., ..., 0., 0., 0.],\n",
       "       [0., 0., 0., ..., 0., 1., 0.],\n",
       "       [0., 0., 0., ..., 0., 0., 0.]])"
      ]
     },
     "execution_count": 22,
     "metadata": {},
     "output_type": "execute_result"
    }
   ],
   "source": [
    "cosine_similarity(Document_TM)"
   ]
  },
  {
   "cell_type": "markdown",
   "id": "07976877",
   "metadata": {},
   "source": [
    "# "
   ]
  },
  {
   "cell_type": "markdown",
   "id": "fa1291d9",
   "metadata": {},
   "source": [
    "### TF-IDF"
   ]
  },
  {
   "cell_type": "code",
   "execution_count": 23,
   "id": "2b956d49",
   "metadata": {},
   "outputs": [],
   "source": [
    "X_tfidf = cv_tfidf.fit_transform(X).toarray()"
   ]
  },
  {
   "cell_type": "code",
   "execution_count": 24,
   "id": "e17c39a7",
   "metadata": {},
   "outputs": [],
   "source": [
    "TF_IDF  = pd.DataFrame(X_tfidf, columns = cv_tfidf.get_feature_names())"
   ]
  },
  {
   "cell_type": "code",
   "execution_count": 25,
   "id": "2be9888d",
   "metadata": {},
   "outputs": [
    {
     "data": {
      "text/html": [
       "<div>\n",
       "<style scoped>\n",
       "    .dataframe tbody tr th:only-of-type {\n",
       "        vertical-align: middle;\n",
       "    }\n",
       "\n",
       "    .dataframe tbody tr th {\n",
       "        vertical-align: top;\n",
       "    }\n",
       "\n",
       "    .dataframe thead th {\n",
       "        text-align: right;\n",
       "    }\n",
       "</style>\n",
       "<table border=\"1\" class=\"dataframe\">\n",
       "  <thead>\n",
       "    <tr style=\"text-align: right;\">\n",
       "      <th></th>\n",
       "      <th>aa</th>\n",
       "      <th>aaa</th>\n",
       "      <th>aaco</th>\n",
       "      <th>aadhaar</th>\n",
       "      <th>aafias</th>\n",
       "      <th>aais</th>\n",
       "      <th>aamc</th>\n",
       "      <th>aampw</th>\n",
       "      <th>aapl</th>\n",
       "      <th>aarey</th>\n",
       "      <th>...</th>\n",
       "      <th>zookeepers</th>\n",
       "      <th>zoom</th>\n",
       "      <th>zoos</th>\n",
       "      <th>zosano</th>\n",
       "      <th>zuma</th>\n",
       "      <th>zumas</th>\n",
       "      <th>zwave</th>\n",
       "      <th>zweig</th>\n",
       "      <th>zyme</th>\n",
       "      <th>zzen</th>\n",
       "    </tr>\n",
       "  </thead>\n",
       "  <tbody>\n",
       "    <tr>\n",
       "      <th>0</th>\n",
       "      <td>0.0</td>\n",
       "      <td>0.0</td>\n",
       "      <td>0.0</td>\n",
       "      <td>0.0</td>\n",
       "      <td>0.0</td>\n",
       "      <td>0.0</td>\n",
       "      <td>0.0</td>\n",
       "      <td>0.0</td>\n",
       "      <td>0.0</td>\n",
       "      <td>0.0</td>\n",
       "      <td>...</td>\n",
       "      <td>0.0</td>\n",
       "      <td>0.0</td>\n",
       "      <td>0.0</td>\n",
       "      <td>0.0</td>\n",
       "      <td>0.0</td>\n",
       "      <td>0.0</td>\n",
       "      <td>0.0</td>\n",
       "      <td>0.0</td>\n",
       "      <td>0.0</td>\n",
       "      <td>0.0</td>\n",
       "    </tr>\n",
       "    <tr>\n",
       "      <th>1</th>\n",
       "      <td>0.0</td>\n",
       "      <td>0.0</td>\n",
       "      <td>0.0</td>\n",
       "      <td>0.0</td>\n",
       "      <td>0.0</td>\n",
       "      <td>0.0</td>\n",
       "      <td>0.0</td>\n",
       "      <td>0.0</td>\n",
       "      <td>0.0</td>\n",
       "      <td>0.0</td>\n",
       "      <td>...</td>\n",
       "      <td>0.0</td>\n",
       "      <td>0.0</td>\n",
       "      <td>0.0</td>\n",
       "      <td>0.0</td>\n",
       "      <td>0.0</td>\n",
       "      <td>0.0</td>\n",
       "      <td>0.0</td>\n",
       "      <td>0.0</td>\n",
       "      <td>0.0</td>\n",
       "      <td>0.0</td>\n",
       "    </tr>\n",
       "  </tbody>\n",
       "</table>\n",
       "<p>2 rows × 15082 columns</p>\n",
       "</div>"
      ],
      "text/plain": [
       "    aa  aaa  aaco  aadhaar  aafias  aais  aamc  aampw  aapl  aarey  ...  \\\n",
       "0  0.0  0.0   0.0      0.0     0.0   0.0   0.0    0.0   0.0    0.0  ...   \n",
       "1  0.0  0.0   0.0      0.0     0.0   0.0   0.0    0.0   0.0    0.0  ...   \n",
       "\n",
       "   zookeepers  zoom  zoos  zosano  zuma  zumas  zwave  zweig  zyme  zzen  \n",
       "0         0.0   0.0   0.0     0.0   0.0    0.0    0.0    0.0   0.0   0.0  \n",
       "1         0.0   0.0   0.0     0.0   0.0    0.0    0.0    0.0   0.0   0.0  \n",
       "\n",
       "[2 rows x 15082 columns]"
      ]
     },
     "execution_count": 25,
     "metadata": {},
     "output_type": "execute_result"
    }
   ],
   "source": [
    "TF_IDF.head(2)"
   ]
  },
  {
   "cell_type": "markdown",
   "id": "9e7fafee",
   "metadata": {},
   "source": [
    "- Check cosine similarity  "
   ]
  },
  {
   "cell_type": "code",
   "execution_count": 26,
   "id": "04d0f5e8",
   "metadata": {},
   "outputs": [
    {
     "data": {
      "text/plain": [
       "array([[0., 0., 0., ..., 0., 0., 0.],\n",
       "       [0., 1., 0., ..., 0., 0., 0.],\n",
       "       [0., 0., 1., ..., 0., 0., 0.],\n",
       "       ...,\n",
       "       [0., 0., 0., ..., 0., 0., 0.],\n",
       "       [0., 0., 0., ..., 0., 1., 0.],\n",
       "       [0., 0., 0., ..., 0., 0., 0.]])"
      ]
     },
     "execution_count": 26,
     "metadata": {},
     "output_type": "execute_result"
    }
   ],
   "source": [
    "cosine_similarity(TF_IDF)"
   ]
  },
  {
   "cell_type": "markdown",
   "id": "e0b98335",
   "metadata": {},
   "source": [
    "###  Topic Modeling  Functions"
   ]
  },
  {
   "cell_type": "code",
   "execution_count": 27,
   "id": "47f4d8e4",
   "metadata": {},
   "outputs": [],
   "source": [
    "#  over DataFrame\n",
    "def show_topics(vectorizer, model, n_words):\n",
    "    keywords = np.array(vectorizer.get_feature_names())\n",
    "    topic_keywords = []\n",
    "    for topic_weights in model.components_:\n",
    "        top_keyword_locs = (-topic_weights).argsort()[:n_words]\n",
    "        topic_keywords.append(keywords.take(top_keyword_locs))\n",
    "    return topic_keywords"
   ]
  },
  {
   "cell_type": "code",
   "execution_count": 28,
   "id": "30d3fa70",
   "metadata": {},
   "outputs": [],
   "source": [
    "# over Text\n",
    "def display_topics(model, feature_names, no_top_words, topic_names=None):\n",
    "    for ix, topic in enumerate(model.components_):\n",
    "        if not topic_names or not topic_names[ix]:\n",
    "            print(\"\\nTopic \", ix)\n",
    "        else:\n",
    "            print(\"\\nTopic: '\",topic_names[ix],\"'\")\n",
    "        print(\", \".join([feature_names[i]\n",
    "                        for i in topic.argsort()[:-no_top_words - 1:-1]]))"
   ]
  },
  {
   "cell_type": "markdown",
   "id": "e1c5c027",
   "metadata": {},
   "source": [
    "# "
   ]
  },
  {
   "cell_type": "markdown",
   "id": "1ebad45c",
   "metadata": {},
   "source": [
    "###  Dimension Reduction Algorithm"
   ]
  },
  {
   "cell_type": "markdown",
   "id": "62c09043",
   "metadata": {},
   "source": [
    "#### PCA-DTM"
   ]
  },
  {
   "cell_type": "code",
   "execution_count": 29,
   "id": "69d41432",
   "metadata": {},
   "outputs": [],
   "source": [
    "# Document_TM\n",
    "Pca_dtm   = pca.fit_transform(Document_TM)"
   ]
  },
  {
   "cell_type": "code",
   "execution_count": 30,
   "id": "1a85a2e9",
   "metadata": {},
   "outputs": [],
   "source": [
    "Pca_dtm_comp = pca.components_ "
   ]
  },
  {
   "cell_type": "code",
   "execution_count": 31,
   "id": "5f4c326d",
   "metadata": {},
   "outputs": [
    {
     "data": {
      "text/plain": [
       "array([[-2.79561371e-05, -1.46820680e-04, -1.28845553e-05, ...,\n",
       "         3.16372247e-05, -1.34798693e-05, -1.38401747e-05],\n",
       "       [-4.15348026e-05, -1.65718537e-05, -1.92984468e-05, ...,\n",
       "        -3.17744702e-04, -2.01099019e-05, -2.14172359e-05],\n",
       "       [-2.57167657e-05,  2.68371167e-03, -1.18585802e-05, ...,\n",
       "        -2.11363096e-05, -1.26473583e-05, -1.30843844e-05],\n",
       "       [-5.30304195e-05,  2.79592156e-04, -2.37600184e-05, ...,\n",
       "         4.17057998e-04, -2.61312875e-05, -2.62352666e-05]])"
      ]
     },
     "execution_count": 31,
     "metadata": {},
     "output_type": "execute_result"
    }
   ],
   "source": [
    "Pca_dtm_comp"
   ]
  },
  {
   "cell_type": "code",
   "execution_count": 32,
   "id": "967539f8",
   "metadata": {},
   "outputs": [
    {
     "name": "stdout",
     "output_type": "stream",
     "text": [
      "[0.00113263 0.00108431 0.00100181 0.00096942]\n"
     ]
    }
   ],
   "source": [
    "print(pca.explained_variance_)"
   ]
  },
  {
   "cell_type": "code",
   "execution_count": 33,
   "id": "26688a2e",
   "metadata": {},
   "outputs": [],
   "source": [
    "pca_ver = pca.explained_variance_"
   ]
  },
  {
   "cell_type": "code",
   "execution_count": 34,
   "id": "03575475",
   "metadata": {},
   "outputs": [
    {
     "name": "stdout",
     "output_type": "stream",
     "text": [
      "\n",
      "Topic  0\n",
      "eregli, fabrikalari, ostim, jant, merkez, demir, celik, sodsn, kurulu, kayit\n",
      "\n",
      "Topic  1\n",
      "courthouse, reese, outrage, multnomah, mtn, marg, airlines, brussels, firecloudofgod, ch\n",
      "\n",
      "Topic  2\n",
      "milli, centraloregon, significant, overnight, marg, tulsa, sgt, humid, locked, antiperspirant\n",
      "\n",
      "Topic  3\n",
      "marg, madhya, greenpeace, dakshin, himalaya, denotify, chandigarh, ta, statute, racketeering\n"
     ]
    }
   ],
   "source": [
    "display_topics(pca, cv.get_feature_names(),10)"
   ]
  },
  {
   "cell_type": "markdown",
   "id": "b6cc85a8",
   "metadata": {},
   "source": [
    "#### PCA_TFIDF"
   ]
  },
  {
   "cell_type": "code",
   "execution_count": 41,
   "id": "a3698968",
   "metadata": {},
   "outputs": [],
   "source": [
    "# TF_IDF\n",
    "Pca_tf = pca.fit_transform(TF_IDF)"
   ]
  },
  {
   "cell_type": "code",
   "execution_count": 42,
   "id": "1a1730c9",
   "metadata": {},
   "outputs": [],
   "source": [
    "Pca_tf_comp = pca.components_ "
   ]
  },
  {
   "cell_type": "code",
   "execution_count": 43,
   "id": "b2ca2bc0",
   "metadata": {},
   "outputs": [
    {
     "name": "stdout",
     "output_type": "stream",
     "text": [
      "[0.00019432 0.00019352 0.00019309 0.00019267]\n"
     ]
    }
   ],
   "source": [
    "print(pca.explained_variance_)"
   ]
  },
  {
   "cell_type": "code",
   "execution_count": 44,
   "id": "431e4b5e",
   "metadata": {
    "scrolled": true
   },
   "outputs": [
    {
     "name": "stdout",
     "output_type": "stream",
     "text": [
      "\n",
      "Topic  0\n",
      "partygoer, exsheriff, driverless, wichita, dmx, preache, bros, warner, bajwa, payperview\n",
      "\n",
      "Topic  1\n",
      "hurdle, suffocate, payperview, preache, execution, smartwatch, lockn, biological, dodgy, speedy\n",
      "\n",
      "Topic  2\n",
      "nondisclosure, dmx, preregister, exsheriff, teslas, hitter, immunization, lara, preache, mcgregormayweather\n",
      "\n",
      "Topic  3\n",
      "flaw, daredevil, netherland, speedy, hitter, meis, nan, immunization, grope, mcgregormayweather\n"
     ]
    }
   ],
   "source": [
    "display_topics(pca, cv_tfidf.get_feature_names(),10)"
   ]
  },
  {
   "cell_type": "markdown",
   "id": "d14947e4",
   "metadata": {},
   "source": [
    "### Topic Modling "
   ]
  },
  {
   "cell_type": "markdown",
   "id": "be7f581f",
   "metadata": {},
   "source": [
    "####  LSA -DTM"
   ]
  },
  {
   "cell_type": "code",
   "execution_count": 45,
   "id": "481873cc",
   "metadata": {},
   "outputs": [],
   "source": [
    "# Document_TM\n",
    "lsa_dtm = lsa.fit_transform(Document_TM)"
   ]
  },
  {
   "cell_type": "code",
   "execution_count": 46,
   "id": "bbf03655",
   "metadata": {},
   "outputs": [
    {
     "data": {
      "text/plain": [
       "array([[-1.85774717e-05, -1.01200933e-03,  1.69989509e-06, ...,\n",
       "        -2.14775569e-04, -2.59020822e-05,  1.66562135e-05],\n",
       "       [ 1.88704606e-05,  2.91582128e-03,  4.45749161e-07, ...,\n",
       "         6.23706224e-04,  1.50731325e-06, -1.94261468e-05],\n",
       "       [-1.34908472e-05,  1.78746377e-03,  2.63166592e-06, ...,\n",
       "        -9.11548880e-05, -5.72678424e-06, -4.16586544e-05],\n",
       "       [-5.27460907e-05, -5.94240929e-03,  2.04373346e-06, ...,\n",
       "         2.83525273e-04,  6.88273452e-06,  8.24245455e-07]])"
      ]
     },
     "execution_count": 46,
     "metadata": {},
     "output_type": "execute_result"
    }
   ],
   "source": [
    "lsa_dtm_comp = lsa.components_ \n",
    "lsa_dtm_comp"
   ]
  },
  {
   "cell_type": "code",
   "execution_count": 47,
   "id": "de5e2926",
   "metadata": {},
   "outputs": [
    {
     "data": {
      "text/plain": [
       "array([0.00080013, 0.00076006, 0.00068592, 0.00067975])"
      ]
     },
     "execution_count": 47,
     "metadata": {},
     "output_type": "execute_result"
    }
   ],
   "source": [
    "lsa.explained_variance_ratio_"
   ]
  },
  {
   "cell_type": "code",
   "execution_count": 48,
   "id": "459dcb49",
   "metadata": {},
   "outputs": [],
   "source": [
    "topic_keywords = show_topics(vectorizer=cv, model=lsa, n_words=10)        "
   ]
  },
  {
   "cell_type": "code",
   "execution_count": 49,
   "id": "79a6d4f8",
   "metadata": {},
   "outputs": [
    {
     "data": {
      "text/html": [
       "<div>\n",
       "<style scoped>\n",
       "    .dataframe tbody tr th:only-of-type {\n",
       "        vertical-align: middle;\n",
       "    }\n",
       "\n",
       "    .dataframe tbody tr th {\n",
       "        vertical-align: top;\n",
       "    }\n",
       "\n",
       "    .dataframe thead th {\n",
       "        text-align: right;\n",
       "    }\n",
       "</style>\n",
       "<table border=\"1\" class=\"dataframe\">\n",
       "  <thead>\n",
       "    <tr style=\"text-align: right;\">\n",
       "      <th></th>\n",
       "      <th>Topic 0</th>\n",
       "      <th>Topic 1</th>\n",
       "      <th>Topic 2</th>\n",
       "      <th>Topic 3</th>\n",
       "    </tr>\n",
       "  </thead>\n",
       "  <tbody>\n",
       "    <tr>\n",
       "      <th>Word 0</th>\n",
       "      <td>ayes</td>\n",
       "      <td>courthouse</td>\n",
       "      <td>milli</td>\n",
       "      <td>marg</td>\n",
       "    </tr>\n",
       "    <tr>\n",
       "      <th>Word 1</th>\n",
       "      <td>umpas</td>\n",
       "      <td>reese</td>\n",
       "      <td>centraloregon</td>\n",
       "      <td>madhya</td>\n",
       "    </tr>\n",
       "    <tr>\n",
       "      <th>Word 2</th>\n",
       "      <td>eregl</td>\n",
       "      <td>outrage</td>\n",
       "      <td>overnight</td>\n",
       "      <td>himalaya</td>\n",
       "    </tr>\n",
       "    <tr>\n",
       "      <th>Word 3</th>\n",
       "      <td>eregli</td>\n",
       "      <td>multnomah</td>\n",
       "      <td>significant</td>\n",
       "      <td>dakshin</td>\n",
       "    </tr>\n",
       "    <tr>\n",
       "      <th>Word 4</th>\n",
       "      <td>kurulu</td>\n",
       "      <td>ni</td>\n",
       "      <td>greenpeace</td>\n",
       "      <td>chandigarh</td>\n",
       "    </tr>\n",
       "    <tr>\n",
       "      <th>Word 5</th>\n",
       "      <td>raysg</td>\n",
       "      <td>ng</td>\n",
       "      <td>apui</td>\n",
       "      <td>denotify</td>\n",
       "    </tr>\n",
       "    <tr>\n",
       "      <th>Word 6</th>\n",
       "      <td>celik</td>\n",
       "      <td>mga</td>\n",
       "      <td>ta</td>\n",
       "      <td>milli</td>\n",
       "    </tr>\n",
       "    <tr>\n",
       "      <th>Word 7</th>\n",
       "      <td>unyec</td>\n",
       "      <td>padilla</td>\n",
       "      <td>ch</td>\n",
       "      <td>centraloregon</td>\n",
       "    </tr>\n",
       "    <tr>\n",
       "      <th>Word 8</th>\n",
       "      <td>demir</td>\n",
       "      <td>khanna</td>\n",
       "      <td>empirical</td>\n",
       "      <td>overnight</td>\n",
       "    </tr>\n",
       "    <tr>\n",
       "      <th>Word 9</th>\n",
       "      <td>ittfh</td>\n",
       "      <td>daria</td>\n",
       "      <td>mtn</td>\n",
       "      <td>significant</td>\n",
       "    </tr>\n",
       "  </tbody>\n",
       "</table>\n",
       "</div>"
      ],
      "text/plain": [
       "       Topic 0     Topic 1        Topic 2        Topic 3\n",
       "Word 0    ayes  courthouse          milli           marg\n",
       "Word 1   umpas       reese  centraloregon         madhya\n",
       "Word 2   eregl     outrage      overnight       himalaya\n",
       "Word 3  eregli   multnomah    significant        dakshin\n",
       "Word 4  kurulu          ni     greenpeace     chandigarh\n",
       "Word 5   raysg          ng           apui       denotify\n",
       "Word 6   celik         mga             ta          milli\n",
       "Word 7   unyec     padilla             ch  centraloregon\n",
       "Word 8   demir      khanna      empirical      overnight\n",
       "Word 9   ittfh       daria            mtn    significant"
      ]
     },
     "execution_count": 49,
     "metadata": {},
     "output_type": "execute_result"
    }
   ],
   "source": [
    "# Topic - Keywords Dataframe\n",
    "df_topic_keywords = pd.DataFrame(topic_keywords)\n",
    "df_topic_keywords.columns = ['Word '+str(i) for i in range(df_topic_keywords.shape[1])]\n",
    "df_topic_keywords.index   = ['Topic '+str(i) for i in range(df_topic_keywords.shape[0])]\n",
    "df_topic_keywords.T"
   ]
  },
  {
   "cell_type": "code",
   "execution_count": 50,
   "id": "4a823f48",
   "metadata": {},
   "outputs": [
    {
     "name": "stdout",
     "output_type": "stream",
     "text": [
      "\n",
      "Topic  0\n",
      "ayes, umpas, eregli, ostim, kayit, merkez, akbnk, sodsn, raysg, kurulu\n",
      "\n",
      "Topic  1\n",
      "courthouse, reese, outrage, multnomah, ni, ng, mga, padilla, daria, momaya\n",
      "\n",
      "Topic  2\n",
      "milli, centraloregon, overnight, significant, greenpeace, apui, ta, ch, empirical, mtn\n",
      "\n",
      "Topic  3\n",
      "marg, madhya, chandigarh, himalaya, dakshin, denotify, milli, centraloregon, overnight, significant\n"
     ]
    }
   ],
   "source": [
    "display_topics(lsa, cv.get_feature_names(),10)"
   ]
  },
  {
   "cell_type": "markdown",
   "id": "3942458b",
   "metadata": {},
   "source": [
    "####  LSA- TFIDF"
   ]
  },
  {
   "cell_type": "code",
   "execution_count": 51,
   "id": "f0298e61",
   "metadata": {},
   "outputs": [],
   "source": [
    "# TF_IDF\n",
    "lsa_tf = lsa.fit_transform(TF_IDF)"
   ]
  },
  {
   "cell_type": "code",
   "execution_count": 52,
   "id": "080cc6b5",
   "metadata": {},
   "outputs": [
    {
     "data": {
      "text/plain": [
       "array([[ 4.81754001e-04, -1.82792491e-04,  1.15614502e-04, ...,\n",
       "         7.89694470e-05, -1.73660789e-05, -7.72237296e-05],\n",
       "       [-1.38228555e-03, -8.52242990e-05,  6.93039718e-05, ...,\n",
       "         1.66387624e-04,  7.57684660e-05,  4.43563076e-05],\n",
       "       [ 5.51476125e-04,  3.30167651e-04, -7.54299175e-05, ...,\n",
       "         3.10073311e-04, -6.25144531e-05, -5.00528572e-05],\n",
       "       [ 1.04938629e-04, -2.50567687e-03,  1.77761608e-04, ...,\n",
       "         3.71140735e-05, -1.30166816e-04,  8.01232423e-05]])"
      ]
     },
     "execution_count": 52,
     "metadata": {},
     "output_type": "execute_result"
    }
   ],
   "source": [
    "lsa_tf_comp = lsa.components_ \n",
    "lsa_tf_comp"
   ]
  },
  {
   "cell_type": "code",
   "execution_count": 53,
   "id": "8f5e439d",
   "metadata": {},
   "outputs": [
    {
     "data": {
      "text/plain": [
       "array([0.00026801, 0.00026667, 0.00026451, 0.00026428])"
      ]
     },
     "execution_count": 53,
     "metadata": {},
     "output_type": "execute_result"
    }
   ],
   "source": [
    "lsa.explained_variance_ratio_"
   ]
  },
  {
   "cell_type": "code",
   "execution_count": 54,
   "id": "92b48139",
   "metadata": {},
   "outputs": [],
   "source": [
    "topic_keywords = show_topics(vectorizer=cv_tfidf, model=lsa, n_words=10)        "
   ]
  },
  {
   "cell_type": "code",
   "execution_count": 55,
   "id": "c2e74f28",
   "metadata": {},
   "outputs": [
    {
     "data": {
      "text/html": [
       "<div>\n",
       "<style scoped>\n",
       "    .dataframe tbody tr th:only-of-type {\n",
       "        vertical-align: middle;\n",
       "    }\n",
       "\n",
       "    .dataframe tbody tr th {\n",
       "        vertical-align: top;\n",
       "    }\n",
       "\n",
       "    .dataframe thead th {\n",
       "        text-align: right;\n",
       "    }\n",
       "</style>\n",
       "<table border=\"1\" class=\"dataframe\">\n",
       "  <thead>\n",
       "    <tr style=\"text-align: right;\">\n",
       "      <th></th>\n",
       "      <th>Topic 0</th>\n",
       "      <th>Topic 1</th>\n",
       "      <th>Topic 2</th>\n",
       "      <th>Topic 3</th>\n",
       "    </tr>\n",
       "  </thead>\n",
       "  <tbody>\n",
       "    <tr>\n",
       "      <th>Word 0</th>\n",
       "      <td>exfbi</td>\n",
       "      <td>nondisclosure</td>\n",
       "      <td>execution</td>\n",
       "      <td>milos</td>\n",
       "    </tr>\n",
       "    <tr>\n",
       "      <th>Word 1</th>\n",
       "      <td>pawtucket</td>\n",
       "      <td>petersburg</td>\n",
       "      <td>surplus</td>\n",
       "      <td>bajwa</td>\n",
       "    </tr>\n",
       "    <tr>\n",
       "      <th>Word 2</th>\n",
       "      <td>dmx</td>\n",
       "      <td>payperview</td>\n",
       "      <td>gastro</td>\n",
       "      <td>lara</td>\n",
       "    </tr>\n",
       "    <tr>\n",
       "      <th>Word 3</th>\n",
       "      <td>thirty</td>\n",
       "      <td>erasmus</td>\n",
       "      <td>aloha</td>\n",
       "      <td>population</td>\n",
       "    </tr>\n",
       "    <tr>\n",
       "      <th>Word 4</th>\n",
       "      <td>biological</td>\n",
       "      <td>munster</td>\n",
       "      <td>lockn</td>\n",
       "      <td>airfare</td>\n",
       "    </tr>\n",
       "    <tr>\n",
       "      <th>Word 5</th>\n",
       "      <td>nondisclosure</td>\n",
       "      <td>tribune</td>\n",
       "      <td>chipotle</td>\n",
       "      <td>smartwatch</td>\n",
       "    </tr>\n",
       "    <tr>\n",
       "      <th>Word 6</th>\n",
       "      <td>largely</td>\n",
       "      <td>pga</td>\n",
       "      <td>tinder</td>\n",
       "      <td>magnifymoney</td>\n",
       "    </tr>\n",
       "    <tr>\n",
       "      <th>Word 7</th>\n",
       "      <td>tribune</td>\n",
       "      <td>backpage</td>\n",
       "      <td>soulsearche</td>\n",
       "      <td>carjacking</td>\n",
       "    </tr>\n",
       "    <tr>\n",
       "      <th>Word 8</th>\n",
       "      <td>execution</td>\n",
       "      <td>mcgregormayweather</td>\n",
       "      <td>petersburg</td>\n",
       "      <td>swap</td>\n",
       "    </tr>\n",
       "    <tr>\n",
       "      <th>Word 9</th>\n",
       "      <td>remains</td>\n",
       "      <td>outreach</td>\n",
       "      <td>yard</td>\n",
       "      <td>catalonia</td>\n",
       "    </tr>\n",
       "  </tbody>\n",
       "</table>\n",
       "</div>"
      ],
      "text/plain": [
       "              Topic 0             Topic 1      Topic 2       Topic 3\n",
       "Word 0          exfbi       nondisclosure    execution         milos\n",
       "Word 1      pawtucket          petersburg      surplus         bajwa\n",
       "Word 2            dmx          payperview       gastro          lara\n",
       "Word 3         thirty             erasmus        aloha    population\n",
       "Word 4     biological             munster        lockn       airfare\n",
       "Word 5  nondisclosure             tribune     chipotle    smartwatch\n",
       "Word 6        largely                 pga       tinder  magnifymoney\n",
       "Word 7        tribune            backpage  soulsearche    carjacking\n",
       "Word 8      execution  mcgregormayweather   petersburg          swap\n",
       "Word 9        remains            outreach         yard     catalonia"
      ]
     },
     "execution_count": 55,
     "metadata": {},
     "output_type": "execute_result"
    }
   ],
   "source": [
    "# Topic - Keywords Dataframe\n",
    "df_topic_keywords = pd.DataFrame(topic_keywords)\n",
    "df_topic_keywords.columns = ['Word '+str(i) for i in range(df_topic_keywords.shape[1])]\n",
    "df_topic_keywords.index = ['Topic '+str(i) for i in range(df_topic_keywords.shape[0])]\n",
    "df_topic_keywords.T"
   ]
  },
  {
   "cell_type": "code",
   "execution_count": 56,
   "id": "6dfa6506",
   "metadata": {},
   "outputs": [
    {
     "name": "stdout",
     "output_type": "stream",
     "text": [
      "\n",
      "Topic  0\n",
      "exfbi, pawtucket, dmx, thirty, biological, nondisclosure, largely, tribune, execution, remains\n",
      "\n",
      "Topic  1\n",
      "nondisclosure, petersburg, payperview, erasmus, munster, tribune, pga, backpage, mcgregormayweather, outreach\n",
      "\n",
      "Topic  2\n",
      "execution, surplus, gastro, aloha, lockn, chipotle, tinder, soulsearche, petersburg, yard\n",
      "\n",
      "Topic  3\n",
      "milos, bajwa, lara, population, airfare, smartwatch, magnifymoney, carjacking, swap, catalonia\n"
     ]
    }
   ],
   "source": [
    "display_topics(lsa, cv_tfidf.get_feature_names(),10)"
   ]
  },
  {
   "cell_type": "markdown",
   "id": "6c0a5538",
   "metadata": {},
   "source": [
    "### Clustring with Kmean"
   ]
  },
  {
   "cell_type": "markdown",
   "id": "da37e3ea",
   "metadata": {},
   "source": [
    "- KMean"
   ]
  },
  {
   "cell_type": "code",
   "execution_count": 57,
   "id": "6171b0e1",
   "metadata": {},
   "outputs": [
    {
     "name": "stdout",
     "output_type": "stream",
     "text": [
      "Top terms per cluster:\n",
      "Cluster 0:\n",
      " hurdle\n",
      " suffocate\n",
      " payperview\n",
      " preache\n",
      " execution\n",
      " smartwatch\n",
      " lockn\n",
      " biological\n",
      " dodgy\n",
      " speedy\n",
      " peek\n",
      " catalonia\n",
      " gastro\n",
      " grope\n",
      " netherland\n",
      " petersburg\n",
      " halfstaff\n",
      " soulsearche\n",
      " autistic\n",
      " remains\n",
      "Cluster 1:\n",
      " flaw\n",
      " daredevil\n",
      " netherland\n",
      " speedy\n",
      " hitter\n",
      " meis\n",
      " nan\n",
      " immunization\n",
      " grope\n",
      " mcgregormayweather\n",
      " teslas\n",
      " bajwa\n",
      " ultrasound\n",
      " gamechanger\n",
      " pawtucket\n",
      " tinder\n",
      " carjacking\n",
      " execution\n",
      " widow\n",
      " meltdown\n",
      "Cluster 2:\n",
      " nondisclosure\n",
      " dmx\n",
      " preregister\n",
      " exsheriff\n",
      " teslas\n",
      " hitter\n",
      " immunization\n",
      " lara\n",
      " preache\n",
      " mcgregormayweather\n",
      " alba\n",
      " angola\n",
      " gastro\n",
      " soulsearche\n",
      " netherland\n",
      " houthi\n",
      " exfbi\n",
      " population\n",
      " pawtucket\n",
      " remains\n",
      "Cluster 3:\n",
      " partygoer\n",
      " exsheriff\n",
      " driverless\n",
      " wichita\n",
      " dmx\n",
      " preache\n",
      " bros\n",
      " warner\n",
      " bajwa\n",
      " payperview\n",
      " thirty\n",
      " flaw\n",
      " gastro\n",
      " nan\n",
      " grope\n",
      " houthi\n",
      " blacklist\n",
      " superbug\n",
      " peek\n",
      " pace\n"
     ]
    }
   ],
   "source": [
    "true_k = 4\n",
    "model = KMeans(n_clusters=true_k, init='k-means++',random_state=60, max_iter=100, n_init=1)\n",
    "model.fit(Pca_tf_comp) # Algorithem\n",
    "\n",
    "print(\"Top terms per cluster:\")\n",
    "order_centroids = model.cluster_centers_.argsort()[:, ::-1]\n",
    "terms = cv.get_feature_names()\n",
    "for i in range(true_k):\n",
    "    print(\"Cluster %d:\" % i),\n",
    "    for ind in order_centroids[i, :20]:\n",
    "        print(' %s' % terms[ind]),"
   ]
  },
  {
   "cell_type": "markdown",
   "id": "6719e9dc",
   "metadata": {},
   "source": [
    "Results\n",
    "We can notice that topics are:\n",
    "\n",
    "Topic 0: Humanities  \n",
    "Topic 1: Cases and Accidents     \n",
    "Topic 2: Culture and Society  \n",
    "Topic 3: Political   "
   ]
  },
  {
   "cell_type": "code",
   "execution_count": 62,
   "id": "8bb11c29",
   "metadata": {},
   "outputs": [
    {
     "data": {
      "text/plain": [
       "array([0, 3, 2, ..., 0, 1, 0], dtype=int32)"
      ]
     },
     "execution_count": 62,
     "metadata": {},
     "output_type": "execute_result"
    }
   ],
   "source": [
    "prediction = model.predict(TF_IDF)\n",
    "prediction"
   ]
  },
  {
   "cell_type": "code",
   "execution_count": 63,
   "id": "af96886e",
   "metadata": {},
   "outputs": [
    {
     "name": "stderr",
     "output_type": "stream",
     "text": [
      "<ipython-input-63-d4e094db96fe>:1: SettingWithCopyWarning: \n",
      "A value is trying to be set on a copy of a slice from a DataFrame.\n",
      "Try using .loc[row_indexer,col_indexer] = value instead\n",
      "\n",
      "See the caveats in the documentation: https://pandas.pydata.org/pandas-docs/stable/user_guide/indexing.html#returning-a-view-versus-a-copy\n",
      "  Global_News_spl['Topic'] = prediction\n",
      "/Users/macbookproretina13inch/opt/anaconda3/lib/python3.8/site-packages/pandas/core/series.py:4509: SettingWithCopyWarning: \n",
      "A value is trying to be set on a copy of a slice from a DataFrame\n",
      "\n",
      "See the caveats in the documentation: https://pandas.pydata.org/pandas-docs/stable/user_guide/indexing.html#returning-a-view-versus-a-copy\n",
      "  return super().replace(\n"
     ]
    },
    {
     "data": {
      "text/html": [
       "<div>\n",
       "<style scoped>\n",
       "    .dataframe tbody tr th:only-of-type {\n",
       "        vertical-align: middle;\n",
       "    }\n",
       "\n",
       "    .dataframe tbody tr th {\n",
       "        vertical-align: top;\n",
       "    }\n",
       "\n",
       "    .dataframe thead th {\n",
       "        text-align: right;\n",
       "    }\n",
       "</style>\n",
       "<table border=\"1\" class=\"dataframe\">\n",
       "  <thead>\n",
       "    <tr style=\"text-align: right;\">\n",
       "      <th></th>\n",
       "      <th>Text</th>\n",
       "      <th>Text_lemma</th>\n",
       "      <th>spacy_doc</th>\n",
       "      <th>species_lemma</th>\n",
       "      <th>Topic</th>\n",
       "    </tr>\n",
       "  </thead>\n",
       "  <tbody>\n",
       "    <tr>\n",
       "      <th>14647</th>\n",
       "      <td>smsp volunteers hawaiian humane society image</td>\n",
       "      <td>smsp volunteer hawaiian humane society image</td>\n",
       "      <td>(smsp, volunteers, hawaiian, humane, society, ...</td>\n",
       "      <td>smsp    volunteer    hawaiian    humane    s...</td>\n",
       "      <td>Humanities</td>\n",
       "    </tr>\n",
       "    <tr>\n",
       "      <th>4051</th>\n",
       "      <td>comment charlottesville white color steve</td>\n",
       "      <td>comment charlottesville white color steve</td>\n",
       "      <td>(comment, charlottesville, white, color, steve)</td>\n",
       "      <td>comment    charlottesville    white    color...</td>\n",
       "      <td>Humanities</td>\n",
       "    </tr>\n",
       "    <tr>\n",
       "      <th>793</th>\n",
       "      <td>coach kirk ferentz donates million iowa hospital</td>\n",
       "      <td>coach kirk ferentz donate million iowa hospital</td>\n",
       "      <td>(coach, kirk, ferentz, donates, million, iowa,...</td>\n",
       "      <td>coach    kirk    ferentz    donate    millio...</td>\n",
       "      <td>Humanities</td>\n",
       "    </tr>\n",
       "    <tr>\n",
       "      <th>6523</th>\n",
       "      <td>detroiter says suburban cops terrorized raid</td>\n",
       "      <td>detroiter say suburban cop terrorize raid</td>\n",
       "      <td>(detroiter, says, suburban, cops, terrorized, ...</td>\n",
       "      <td>detroiter    say    suburban    cop    terro...</td>\n",
       "      <td>Humanities</td>\n",
       "    </tr>\n",
       "    <tr>\n",
       "      <th>3071</th>\n",
       "      <td>chanel iman makes model football player boyfri...</td>\n",
       "      <td>chanel iman make model football player boyfrie...</td>\n",
       "      <td>(chanel, iman, makes, model, football, player,...</td>\n",
       "      <td>chanel    iman    make    model    football ...</td>\n",
       "      <td>Cases and Accidents</td>\n",
       "    </tr>\n",
       "    <tr>\n",
       "      <th>12673</th>\n",
       "      <td>dr andrew jones director geoscience energy mar...</td>\n",
       "      <td>dr andrew jones director geoscience energy mar...</td>\n",
       "      <td>(dr, andrew, jones, director, geoscience, ener...</td>\n",
       "      <td>dr    andrew    jones    director    geoscie...</td>\n",
       "      <td>Humanities</td>\n",
       "    </tr>\n",
       "    <tr>\n",
       "      <th>1490</th>\n",
       "      <td>cities lose altweekly dies</td>\n",
       "      <td>cities lose altweekly die</td>\n",
       "      <td>(cities, lose, altweekly, dies)</td>\n",
       "      <td>city    lose    altweekly    die</td>\n",
       "      <td>Political</td>\n",
       "    </tr>\n",
       "    <tr>\n",
       "      <th>2994</th>\n",
       "      <td>ghs seniors take art skills pavement</td>\n",
       "      <td>ghs seniors take art skills pavement</td>\n",
       "      <td>(ghs, seniors, take, art, skills, pavement)</td>\n",
       "      <td>ghs    senior    take    art    skill    pav...</td>\n",
       "      <td>Political</td>\n",
       "    </tr>\n",
       "    <tr>\n",
       "      <th>14170</th>\n",
       "      <td>yearold killed forest fire mankayane</td>\n",
       "      <td>yearold kill forest fire mankayane</td>\n",
       "      <td>( , yearold, killed, forest, fire, mankayane)</td>\n",
       "      <td>yearold    kill    forest    fire    ma...</td>\n",
       "      <td>Culture and Society</td>\n",
       "    </tr>\n",
       "    <tr>\n",
       "      <th>3654</th>\n",
       "      <td>exwsj reporters upset former editor demands fa...</td>\n",
       "      <td>exwsj reporters upset former editor demand fac...</td>\n",
       "      <td>(exwsj, reporters, upset, former, editor, dema...</td>\n",
       "      <td>exwsj    reporter    upset    former    edit...</td>\n",
       "      <td>Political</td>\n",
       "    </tr>\n",
       "  </tbody>\n",
       "</table>\n",
       "</div>"
      ],
      "text/plain": [
       "                                                    Text  \\\n",
       "14647     smsp volunteers hawaiian humane society image    \n",
       "4051           comment charlottesville white color steve   \n",
       "793     coach kirk ferentz donates million iowa hospital   \n",
       "6523        detroiter says suburban cops terrorized raid   \n",
       "3071   chanel iman makes model football player boyfri...   \n",
       "12673  dr andrew jones director geoscience energy mar...   \n",
       "1490                          cities lose altweekly dies   \n",
       "2994                ghs seniors take art skills pavement   \n",
       "14170               yearold killed forest fire mankayane   \n",
       "3654   exwsj reporters upset former editor demands fa...   \n",
       "\n",
       "                                              Text_lemma  \\\n",
       "14647    smsp volunteer hawaiian humane society image      \n",
       "4051         comment charlottesville white color steve     \n",
       "793    coach kirk ferentz donate million iowa hospital     \n",
       "6523         detroiter say suburban cop terrorize raid     \n",
       "3071   chanel iman make model football player boyfrie...   \n",
       "12673  dr andrew jones director geoscience energy mar...   \n",
       "1490                         cities lose altweekly die     \n",
       "2994              ghs seniors take art skills pavement     \n",
       "14170               yearold kill forest fire mankayane     \n",
       "3654   exwsj reporters upset former editor demand fac...   \n",
       "\n",
       "                                               spacy_doc  \\\n",
       "14647  (smsp, volunteers, hawaiian, humane, society, ...   \n",
       "4051     (comment, charlottesville, white, color, steve)   \n",
       "793    (coach, kirk, ferentz, donates, million, iowa,...   \n",
       "6523   (detroiter, says, suburban, cops, terrorized, ...   \n",
       "3071   (chanel, iman, makes, model, football, player,...   \n",
       "12673  (dr, andrew, jones, director, geoscience, ener...   \n",
       "1490                     (cities, lose, altweekly, dies)   \n",
       "2994         (ghs, seniors, take, art, skills, pavement)   \n",
       "14170      ( , yearold, killed, forest, fire, mankayane)   \n",
       "3654   (exwsj, reporters, upset, former, editor, dema...   \n",
       "\n",
       "                                           species_lemma                Topic  \n",
       "14647    smsp    volunteer    hawaiian    humane    s...          Humanities   \n",
       "4051     comment    charlottesville    white    color...          Humanities   \n",
       "793      coach    kirk    ferentz    donate    millio...          Humanities   \n",
       "6523     detroiter    say    suburban    cop    terro...          Humanities   \n",
       "3071     chanel    iman    make    model    football ...  Cases and Accidents  \n",
       "12673    dr    andrew    jones    director    geoscie...          Humanities   \n",
       "1490                  city    lose    altweekly    die              Political  \n",
       "2994     ghs    senior    take    art    skill    pav...            Political  \n",
       "14170         yearold    kill    forest    fire    ma...  Culture and Society  \n",
       "3654     exwsj    reporter    upset    former    edit...            Political  "
      ]
     },
     "execution_count": 63,
     "metadata": {},
     "output_type": "execute_result"
    }
   ],
   "source": [
    "Global_News_spl['Topic'] = prediction\n",
    "Global_News_spl.Topic.replace({0: \"Humanities \", 1: \"Cases and Accidents\", 2:\"Culture and Society\", 3:\"Political\"}, inplace=True)\n",
    "Global_News_spl.sample(10)"
   ]
  },
  {
   "cell_type": "code",
   "execution_count": 64,
   "id": "b05de9ca",
   "metadata": {},
   "outputs": [
    {
     "data": {
      "text/plain": [
       "Humanities             6200\n",
       "Political              4256\n",
       "Culture and Society    3132\n",
       "Cases and Accidents    1412\n",
       "Name: Topic, dtype: int64"
      ]
     },
     "execution_count": 64,
     "metadata": {},
     "output_type": "execute_result"
    }
   ],
   "source": [
    "Global_News_spl.Topic.value_counts()"
   ]
  },
  {
   "cell_type": "code",
   "execution_count": 65,
   "id": "7825c689",
   "metadata": {},
   "outputs": [
    {
     "data": {
      "text/html": [
       "<div>\n",
       "<style scoped>\n",
       "    .dataframe tbody tr th:only-of-type {\n",
       "        vertical-align: middle;\n",
       "    }\n",
       "\n",
       "    .dataframe tbody tr th {\n",
       "        vertical-align: top;\n",
       "    }\n",
       "\n",
       "    .dataframe thead th {\n",
       "        text-align: right;\n",
       "    }\n",
       "</style>\n",
       "<table border=\"1\" class=\"dataframe\">\n",
       "  <thead>\n",
       "    <tr style=\"text-align: right;\">\n",
       "      <th></th>\n",
       "      <th>Humanities</th>\n",
       "      <th>Cases and Accidents</th>\n",
       "      <th>Culture and Society</th>\n",
       "      <th>Political</th>\n",
       "    </tr>\n",
       "  </thead>\n",
       "  <tbody>\n",
       "    <tr>\n",
       "      <th>(details facebooks global partner summit, detail facebooks global partner summit  , (details, facebooks, global, partner, summit),   detail    facebook    global    partner    summit  , Humanities )</th>\n",
       "      <td>0.000</td>\n",
       "      <td>0.000</td>\n",
       "      <td>0.000</td>\n",
       "      <td>0.000</td>\n",
       "    </tr>\n",
       "    <tr>\n",
       "      <th>(petrol diesel rise post daily price revisions economic times, petrol diesel rise post daily price revisions economic time  , (petrol, diesel, rise, post, daily, price, revisions, economic, times),   petrol    diesel    rise    post    daily    price    revision    economic    time  , Political)</th>\n",
       "      <td>0.004</td>\n",
       "      <td>-0.000</td>\n",
       "      <td>-0.001</td>\n",
       "      <td>0.000</td>\n",
       "    </tr>\n",
       "    <tr>\n",
       "      <th>(comment microsoft never sneakily force windows downloads users michael weyant, comment microsoft never sneakily force windows download users michael weyant  , (comment, microsoft, never, sneakily, force, windows, downloads, users, michael, weyant),   comment    microsoft    never    sneakily    force    window    download    user    michael    weyant  , Culture and Society)</th>\n",
       "      <td>0.000</td>\n",
       "      <td>0.000</td>\n",
       "      <td>-0.000</td>\n",
       "      <td>0.000</td>\n",
       "    </tr>\n",
       "    <tr>\n",
       "      <th>(comment google chrome enterprise techfan, comment google chrome enterprise techfan  , (comment, google, chrome, enterprise, techfan),   comment    google    chrome    enterprise    techfan  , Culture and Society)</th>\n",
       "      <td>0.000</td>\n",
       "      <td>0.000</td>\n",
       "      <td>-0.000</td>\n",
       "      <td>-0.000</td>\n",
       "    </tr>\n",
       "    <tr>\n",
       "      <th>(new uncharted best spend gaming , new uncharted best spend game   , (new, uncharted, best, spend, gaming),   new    uncharted    good    spend    gaming  , Cases and Accidents)</th>\n",
       "      <td>0.004</td>\n",
       "      <td>0.008</td>\n",
       "      <td>-0.002</td>\n",
       "      <td>0.006</td>\n",
       "    </tr>\n",
       "    <tr>\n",
       "      <th>(espn robert lee right, espn robert lee right  , (espn, robert, lee, right),   espn    robert    lee    right  , Humanities )</th>\n",
       "      <td>0.000</td>\n",
       "      <td>0.000</td>\n",
       "      <td>0.000</td>\n",
       "      <td>0.000</td>\n",
       "    </tr>\n",
       "    <tr>\n",
       "      <th>(louise lintons famous post instagrams celebrity problem, louise lintons famous post instagrams celebrity problem  , (louise, lintons, famous, post, instagrams, celebrity, problem),   louise    linton    famous    post    instagram    celebrity    problem  , Humanities )</th>\n",
       "      <td>0.000</td>\n",
       "      <td>0.000</td>\n",
       "      <td>0.000</td>\n",
       "      <td>0.000</td>\n",
       "    </tr>\n",
       "    <tr>\n",
       "      <th>(broomfield council sets oil gas ballot item could codify health safety charter, broomfield council set oil gas ballot item could codify health safety charter  , (broomfield, council, sets, oil, gas, ballot, item, could, codify, health, safety, charter),   broomfield    council    set    oil    gas    ballot    item    could    codify    health    safety    charter  , Culture and Society)</th>\n",
       "      <td>0.003</td>\n",
       "      <td>0.001</td>\n",
       "      <td>0.003</td>\n",
       "      <td>-0.002</td>\n",
       "    </tr>\n",
       "    <tr>\n",
       "      <th>(fec meeting must held every week presidency, fec meet must hold every week presidency  , (fec, meeting, must, held, every, week, presidency),   fec    meeting    must    hold    every    week    presidency  , Political)</th>\n",
       "      <td>0.000</td>\n",
       "      <td>0.001</td>\n",
       "      <td>0.000</td>\n",
       "      <td>0.001</td>\n",
       "    </tr>\n",
       "    <tr>\n",
       "      <th>(fake importers smuggle billion algiers port, fake importers smuggle billion algiers port  , (fake, importers, smuggle, billion, algiers, port),   fake    importer    smuggle    billion    algier    port  , Political)</th>\n",
       "      <td>-0.000</td>\n",
       "      <td>-0.000</td>\n",
       "      <td>0.000</td>\n",
       "      <td>0.000</td>\n",
       "    </tr>\n",
       "  </tbody>\n",
       "</table>\n",
       "</div>"
      ],
      "text/plain": [
       "                                                    Humanities  \\\n",
       "(details facebooks global partner summit, detai...       0.000   \n",
       "(petrol diesel rise post daily price revisions ...       0.004   \n",
       "(comment microsoft never sneakily force windows...       0.000   \n",
       "(comment google chrome enterprise techfan, comm...       0.000   \n",
       "(new uncharted best spend gaming , new uncharte...       0.004   \n",
       "(espn robert lee right, espn robert lee right  ...       0.000   \n",
       "(louise lintons famous post instagrams celebrit...       0.000   \n",
       "(broomfield council sets oil gas ballot item co...       0.003   \n",
       "(fec meeting must held every week presidency, f...       0.000   \n",
       "(fake importers smuggle billion algiers port, f...      -0.000   \n",
       "\n",
       "                                                    Cases and Accidents  \\\n",
       "(details facebooks global partner summit, detai...                0.000   \n",
       "(petrol diesel rise post daily price revisions ...               -0.000   \n",
       "(comment microsoft never sneakily force windows...                0.000   \n",
       "(comment google chrome enterprise techfan, comm...                0.000   \n",
       "(new uncharted best spend gaming , new uncharte...                0.008   \n",
       "(espn robert lee right, espn robert lee right  ...                0.000   \n",
       "(louise lintons famous post instagrams celebrit...                0.000   \n",
       "(broomfield council sets oil gas ballot item co...                0.001   \n",
       "(fec meeting must held every week presidency, f...                0.001   \n",
       "(fake importers smuggle billion algiers port, f...               -0.000   \n",
       "\n",
       "                                                    Culture and Society  \\\n",
       "(details facebooks global partner summit, detai...                0.000   \n",
       "(petrol diesel rise post daily price revisions ...               -0.001   \n",
       "(comment microsoft never sneakily force windows...               -0.000   \n",
       "(comment google chrome enterprise techfan, comm...               -0.000   \n",
       "(new uncharted best spend gaming , new uncharte...               -0.002   \n",
       "(espn robert lee right, espn robert lee right  ...                0.000   \n",
       "(louise lintons famous post instagrams celebrit...                0.000   \n",
       "(broomfield council sets oil gas ballot item co...                0.003   \n",
       "(fec meeting must held every week presidency, f...                0.000   \n",
       "(fake importers smuggle billion algiers port, f...                0.000   \n",
       "\n",
       "                                                    Political  \n",
       "(details facebooks global partner summit, detai...      0.000  \n",
       "(petrol diesel rise post daily price revisions ...      0.000  \n",
       "(comment microsoft never sneakily force windows...      0.000  \n",
       "(comment google chrome enterprise techfan, comm...     -0.000  \n",
       "(new uncharted best spend gaming , new uncharte...      0.006  \n",
       "(espn robert lee right, espn robert lee right  ...      0.000  \n",
       "(louise lintons famous post instagrams celebrit...      0.000  \n",
       "(broomfield council sets oil gas ballot item co...     -0.002  \n",
       "(fec meeting must held every week presidency, f...      0.001  \n",
       "(fake importers smuggle billion algiers port, f...      0.000  "
      ]
     },
     "execution_count": 65,
     "metadata": {},
     "output_type": "execute_result"
    }
   ],
   "source": [
    "Vt = pd.DataFrame(lsa_tf.round(3),\n",
    "             index = Global_News_spl,\n",
    "             columns = ['Humanities','Cases and Accidents','Culture and Society','Political'])\n",
    "Vt.head(10)"
   ]
  },
  {
   "cell_type": "markdown",
   "id": "9cdcfd92",
   "metadata": {},
   "source": [
    "### Topics visualization"
   ]
  },
  {
   "cell_type": "code",
   "execution_count": 66,
   "id": "3c6cc4dd",
   "metadata": {},
   "outputs": [],
   "source": [
    "class BubbleChart:\n",
    "    def __init__(self, area, bubble_spacing=0):\n",
    "        \"\"\"\n",
    "        Setup for bubble collapse.\n",
    "\n",
    "        Parameters\n",
    "        ----------\n",
    "        area : array-like\n",
    "            Area of the bubbles.\n",
    "        bubble_spacing : float, default: 0\n",
    "            Minimal spacing between bubbles after collapsing.\n",
    "\n",
    "        Notes\n",
    "        -----\n",
    "        If \"area\" is sorted, the results might look weird.\n",
    "        \"\"\"\n",
    "        area = np.asarray(area)\n",
    "        r = np.sqrt(area / np.pi)\n",
    "\n",
    "        self.bubble_spacing = bubble_spacing\n",
    "        self.bubbles = np.ones((len(area), 4))\n",
    "        self.bubbles[:, 2] = r\n",
    "        self.bubbles[:, 3] = area\n",
    "        self.maxstep = 2 * self.bubbles[:, 2].max() + self.bubble_spacing\n",
    "        self.step_dist = self.maxstep / 2\n",
    "\n",
    "        # calculate initial grid layout for bubbles\n",
    "        length = np.ceil(np.sqrt(len(self.bubbles)))\n",
    "        grid = np.arange(length) * self.maxstep\n",
    "        gx, gy = np.meshgrid(grid, grid)\n",
    "        self.bubbles[:, 0] = gx.flatten()[:len(self.bubbles)]\n",
    "        self.bubbles[:, 1] = gy.flatten()[:len(self.bubbles)]\n",
    "\n",
    "        self.com = self.center_of_mass()\n",
    "\n",
    "    def center_of_mass(self):\n",
    "        return np.average(\n",
    "            self.bubbles[:, :2], axis=0, weights=self.bubbles[:, 3]\n",
    "        )\n",
    "\n",
    "    def center_distance(self, bubble, bubbles):\n",
    "        return np.hypot(bubble[0] - bubbles[:, 0],\n",
    "                        bubble[1] - bubbles[:, 1])\n",
    "\n",
    "    def outline_distance(self, bubble, bubbles):\n",
    "        center_distance = self.center_distance(bubble, bubbles)\n",
    "        return center_distance - bubble[2] - \\\n",
    "            bubbles[:, 2] - self.bubble_spacing\n",
    "\n",
    "    def check_collisions(self, bubble, bubbles):\n",
    "        distance = self.outline_distance(bubble, bubbles)\n",
    "        return len(distance[distance < 0])\n",
    "\n",
    "    def collides_with(self, bubble, bubbles):\n",
    "        distance = self.outline_distance(bubble, bubbles)\n",
    "        idx_min = np.argmin(distance)\n",
    "        return idx_min if type(idx_min) == np.ndarray else [idx_min]\n",
    "\n",
    "    def collapse(self, n_iterations=50):\n",
    "        \"\"\"\n",
    "        Move bubbles to the center of mass.\n",
    "\n",
    "        Parameters\n",
    "        ----------\n",
    "        n_iterations : int, default: 50\n",
    "            Number of moves to perform.\n",
    "        \"\"\"\n",
    "        for _i in range(n_iterations):\n",
    "            moves = 0\n",
    "            for i in range(len(self.bubbles)):\n",
    "                rest_bub = np.delete(self.bubbles, i, 0)\n",
    "                # try to move directly towards the center of mass\n",
    "                # direction vector from bubble to the center of mass\n",
    "                dir_vec = self.com - self.bubbles[i, :2]\n",
    "\n",
    "                # shorten direction vector to have length of 1\n",
    "                dir_vec = dir_vec / np.sqrt(dir_vec.dot(dir_vec))\n",
    "\n",
    "                # calculate new bubble position\n",
    "                new_point = self.bubbles[i, :2] + dir_vec * self.step_dist\n",
    "                new_bubble = np.append(new_point, self.bubbles[i, 2:4])\n",
    "\n",
    "                # check whether new bubble collides with other bubbles\n",
    "                if not self.check_collisions(new_bubble, rest_bub):\n",
    "                    self.bubbles[i, :] = new_bubble\n",
    "                    self.com = self.center_of_mass()\n",
    "                    moves += 1\n",
    "                else:\n",
    "                    # try to move around a bubble that you collide with\n",
    "                    # find colliding bubble\n",
    "                    for colliding in self.collides_with(new_bubble, rest_bub):\n",
    "                        # calculate direction vector\n",
    "                        dir_vec = rest_bub[colliding, :2] - self.bubbles[i, :2]\n",
    "                        dir_vec = dir_vec / np.sqrt(dir_vec.dot(dir_vec))\n",
    "                        # calculate orthogonal vector\n",
    "                        orth = np.array([dir_vec[1], -dir_vec[0]])\n",
    "                        # test which direction to go\n",
    "                        new_point1 = (self.bubbles[i, :2] + orth *\n",
    "                                      self.step_dist)\n",
    "                        new_point2 = (self.bubbles[i, :2] - orth *\n",
    "                                      self.step_dist)\n",
    "                        dist1 = self.center_distance(\n",
    "                            self.com, np.array([new_point1]))\n",
    "                        dist2 = self.center_distance(\n",
    "                            self.com, np.array([new_point2]))\n",
    "                        new_point = new_point1 if dist1 < dist2 else new_point2\n",
    "                        new_bubble = np.append(new_point, self.bubbles[i, 2:4])\n",
    "                        if not self.check_collisions(new_bubble, rest_bub):\n",
    "                            self.bubbles[i, :] = new_bubble\n",
    "                            self.com = self.center_of_mass()\n",
    "            if moves / len(self.bubbles) < 0.1:\n",
    "                self.step_dist = self.step_dist / 2\n",
    "\n",
    "    def plot(self, ax, labels, colors):\n",
    "        \"\"\"\n",
    "        Draw the bubble plot.\n",
    "\n",
    "        Parameters\n",
    "        ----------\n",
    "        ax : matplotlib.axes.Axes\n",
    "        labels : list\n",
    "            Labels of the bubbles.\n",
    "        colors : list\n",
    "            Colors of the bubbles.\n",
    "        \"\"\"\n",
    "        for i in range(len(self.bubbles)):\n",
    "            circ = plt.Circle(\n",
    "                self.bubbles[i, :2], self.bubbles[i, 2], color=colors[i])\n",
    "            ax.add_patch(circ)\n",
    "            ax.text(*self.bubbles[i, :2], labels[i],\n",
    "                    horizontalalignment='center', verticalalignment='center')\n",
    "        "
   ]
  },
  {
   "cell_type": "code",
   "execution_count": 69,
   "id": "8e3c67b5",
   "metadata": {},
   "outputs": [
    {
     "data": {
      "image/png": "[encoded data removed]",
      "text/plain": [
       "<Figure size 720x720 with 1 Axes>"
      ]
     },
     "metadata": {
      "needs_background": "light"
     },
     "output_type": "display_data"
    }
   ],
   "source": [
    "color = [color for name, color in mcolors.TABLEAU_COLORS.items()] \n",
    "\n",
    "topics_bubbles = ['Humanities','Cases and Accidents','Culture and Society','Political']\n",
    "\n",
    "values = list(Global_News_spl.Topic.value_counts().values)\n",
    "\n",
    "bubble_chart = BubbleChart(area=values,\n",
    "                           bubble_spacing=0.1)\n",
    "bubble_chart.collapse()\n",
    "\n",
    "fig, ax = plt.subplots(figsize=(10, 10), subplot_kw=dict(aspect=\"equal\"))\n",
    "bubble_chart.plot(\n",
    "    ax, topics_bubbles, color)\n",
    "ax.axis(\"off\")\n",
    "ax.relim()\n",
    "ax.autoscale_view()\n",
    "ax.set_title('Most Discussed Topic by PCA', fontsize=30)\n",
    "plt.savefig(\"Topic_PCA.png\")\n",
    "\n",
    "plt.show()"
   ]
  },
  {
   "cell_type": "code",
   "execution_count": 113,
   "id": "efec9461",
   "metadata": {},
   "outputs": [
    {
     "name": "stderr",
     "output_type": "stream",
     "text": [
      "/Users/macbookproretina13inch/opt/anaconda3/lib/python3.8/site-packages/seaborn/_decorators.py:36: FutureWarning: Pass the following variables as keyword args: x, y. From version 0.12, the only valid positional argument will be `data`, and passing other arguments without an explicit keyword will result in an error or misinterpretation.\n",
      "  warnings.warn(\n"
     ]
    },
    {
     "data": {
      "image/png": "[encoded data removed]",
      "text/plain": [
       "<Figure size 432x288 with 1 Axes>"
      ]
     },
     "metadata": {},
     "output_type": "display_data"
    }
   ],
   "source": [
    "x=Global_News_spl.Topic.value_counts()\n",
    "ax = sns.barplot(x.index,x)\n",
    "\n",
    "for i, v in enumerate(x.iteritems()):        \n",
    "    ax.text(i ,v[1], \"{:,}\".format(v[1]), ha='center', va ='bottom', fontsize=10, color='black', rotation=0)\n",
    "    \n",
    "plt.title(\"Topic Value counts\",size='15')\n",
    "plt.xlabel(\"Topic\",size='15')\n",
    "plt.ylabel(\"Total\",size='15')\n",
    "plt.xticks(rotation=30)\n",
    "plt.savefig(\"Topic_freq.png\")\n",
    "plt.gca();"
   ]
  }
 ],
 "metadata": {
  "kernelspec": {
   "display_name": "Python 3",
   "language": "python",
   "name": "python3"
  },
  "language_info": {
   "codemirror_mode": {
    "name": "ipython",
    "version": 3
   },
   "file_extension": ".py",
   "mimetype": "text/x-python",
   "name": "python",
   "nbconvert_exporter": "python",
   "pygments_lexer": "ipython3",
   "version": "3.8.8"
  }
 },
 "nbformat": 4,
 "nbformat_minor": 5
}
